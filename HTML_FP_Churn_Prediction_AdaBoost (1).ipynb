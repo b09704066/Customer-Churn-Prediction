{
  "cells": [
    {
      "cell_type": "code",
      "execution_count": 12,
      "metadata": {
        "colab": {
          "base_uri": "https://localhost:8080/"
        },
        "id": "ccpl330UGoE1",
        "outputId": "14a061db-9e3b-4fca-983b-394999740173"
      },
      "outputs": [
        {
          "output_type": "stream",
          "name": "stdout",
          "text": [
            "Drive already mounted at /content/drive; to attempt to forcibly remount, call drive.mount(\"/content/drive\", force_remount=True).\n"
          ]
        }
      ],
      "source": [
        "from google.colab import drive\n",
        "drive.mount('/content/drive')"
      ]
    },
    {
      "cell_type": "code",
      "execution_count": 24,
      "metadata": {
        "id": "RUzdBJDfEe3j"
      },
      "outputs": [],
      "source": [
        "#!/usr/bin/env python3\n",
        "# -*- coding: utf-8 -*-\n",
        "\"\"\"\n",
        "Created on Tue Jan 18 01:45:07 2022\n",
        "\n",
        "@author: nina\n",
        "\"\"\"\n",
        "import pandas as pd\n",
        "import numpy as np\n",
        "from sklearn.model_selection import cross_val_score\n",
        "from sklearn.model_selection import cross_validate, RepeatedStratifiedKFold\n",
        "from sklearn.ensemble import AdaBoostClassifier\n",
        "from sklearn.tree import DecisionTreeClassifier\n",
        "from sklearn.model_selection import GridSearchCV\n",
        "from sklearn.metrics import f1_score\n",
        "from sklearn.metrics import accuracy_score, recall_score\n",
        "from sklearn.metrics import make_scorer\n",
        "from tqdm import tqdm  # For progress tracking\n",
        "from time import time\n",
        "import logging\n",
        "import sys\n",
        "import itertools"
      ]
    },
    {
      "cell_type": "code",
      "execution_count": 14,
      "metadata": {
        "id": "pplwGd-2Eixc"
      },
      "outputs": [],
      "source": [
        "data = pd.read_csv(\"/content/drive/MyDrive/MLFP/Data/missing_treated_v2.csv\")\n",
        "train_data = data.iloc[:5634, :]\n",
        "test_data = data.iloc[5634: , :]"
      ]
    },
    {
      "cell_type": "markdown",
      "metadata": {
        "id": "cccg1s_3G8W7"
      },
      "source": [
        "### **Drop Unlabelled Data**\n",
        "Since in the total of 5,634 rows there are around 16% of the data that is unlabeled. It is more suitable to train a **supervised model** with the labeled data, and maybe moved to semi-supervised model in the future. Therefore, I dropped the unlabelled data."
      ]
    },
    {
      "cell_type": "code",
      "execution_count": 15,
      "metadata": {
        "id": "iPdko9y0Ejb9"
      },
      "outputs": [],
      "source": [
        "unlabeled_train_data = train_data[train_data.isna().any(axis=1)]\n",
        "unlabeled_index = unlabeled_train_data.index\n",
        "new_train_data = train_data.drop(unlabeled_index, axis=0)"
      ]
    },
    {
      "cell_type": "markdown",
      "metadata": {
        "id": "ysyo57vv6M4w"
      },
      "source": [
        "### **Train-test Split**"
      ]
    },
    {
      "cell_type": "code",
      "execution_count": 16,
      "metadata": {
        "id": "6LhSnrDbEpNz"
      },
      "outputs": [],
      "source": [
        "X_train = new_train_data.iloc[:, 1:-1]\n",
        "Y_train = new_train_data.iloc[:, -1]\n",
        "\n",
        "X_test = test_data.iloc[:, 1:-1]"
      ]
    },
    {
      "cell_type": "markdown",
      "metadata": {
        "id": "gZDbMeDFDHUH"
      },
      "source": [
        "### **Original AdaBoost Model**\n",
        "Trying default AdaBoost model, which performs well already with default parameters.\n",
        "1. Applied **k-fold cross-validation** to build a more robust model.\n",
        "2. Applied **GridSearchCV** to evaluate the optimal parameter\n",
        "  - n_estimator: the number of weak classifier the adaboost model consist\n",
        "  - learning_rate: how much the model react on wrong predicted samples\n",
        "  - estimator: the weak classifier, usually uses decision tree\n",
        "3. To understand the real-time process of grid search, I uses **iteration to print out the process of different parameter combination**"
      ]
    },
    {
      "cell_type": "code",
      "execution_count": 17,
      "metadata": {
        "colab": {
          "base_uri": "https://localhost:8080/"
        },
        "id": "VF-hF8iZEtMT",
        "outputId": "ead9b927-6863-49bd-b103-276668e3f285"
      },
      "outputs": [
        {
          "output_type": "stream",
          "name": "stdout",
          "text": [
            "Accuracy: 0.809 (0.007)\n"
          ]
        }
      ],
      "source": [
        "# In[] Original AdaBoost\n",
        "model = AdaBoostClassifier()\n",
        "#cv\n",
        "cv = RepeatedStratifiedKFold(n_splits=10, n_repeats=3, random_state=1)\n",
        "n_scores = cross_val_score(model, X_train, Y_train, scoring='accuracy', cv=cv, n_jobs=-1, error_score='raise')\n",
        "# report performance\n",
        "print('Accuracy: %.3f (%.3f)' % (np.mean(n_scores), np.std(n_scores)))"
      ]
    },
    {
      "cell_type": "markdown",
      "source": [],
      "metadata": {
        "id": "pBV_uibng3Vm"
      }
    },
    {
      "cell_type": "code",
      "execution_count": 39,
      "metadata": {
        "id": "NNRo53v_B0-W"
      },
      "outputs": [],
      "source": [
        "# In[] Grid search with detailed reporting\n",
        "model = AdaBoostClassifier()\n",
        "\n",
        "# Define the grid of values to search\n",
        "grid = dict()\n",
        "grid['n_estimators'] = [30, 50, 100, 150, 200] # start higher due to class imbalance, some might not be included in one training\n",
        "grid['learning_rate'] = [0.01, 0.05, 0.1, 0.3, 0.5]\n",
        "grid['estimator'] = [DecisionTreeClassifier(max_depth=1),\n",
        "                    DecisionTreeClassifier(max_depth=3),\n",
        "                    DecisionTreeClassifier(max_depth=5),\n",
        "                    DecisionTreeClassifier(max_depth=7),\n",
        "                    DecisionTreeClassifier(max_depth=10),]\n",
        "\n",
        "# Define the evaluation procedure\n",
        "cv = RepeatedStratifiedKFold(n_splits=10, n_repeats=2, random_state=1)\n",
        "\n",
        "# Define the grid search procedure with multiple scoring metrics\n",
        "# grid_search = GridSearchCV(estimator=model,\n",
        "#                          param_grid=grid,\n",
        "#                          n_jobs=-1,\n",
        "#                          cv=cv,\n",
        "#                          scoring=['accuracy', 'recall_macro'],  # recall_macro for multi-classes\n",
        "#                          refit='accuracy',  # Refit using accuracy\n",
        "#                          return_train_score=True,\n",
        "#                          verbose=3)"
      ]
    },
    {
      "cell_type": "code",
      "source": [
        "# Custom scorer: Recall for churn classes only (1-4)\n",
        "def churn_recall(y_true, y_pred):\n",
        "    mask = y_true > 0  # Churn samples\n",
        "    if np.sum(mask) == 0:  # Edge case: no churn in fold\n",
        "        return np.nan\n",
        "    y_true_churn = y_true[mask]\n",
        "    y_pred_churn = y_pred[mask]\n",
        "    return recall_score(y_true_churn, y_pred_churn, average='macro', zero_division=0)\n",
        "\n",
        "# Custom scorer: F1 for churn classes only (1-4)\n",
        "def churn_f1(y_true, y_pred):\n",
        "    mask = y_true > 0  # Churn samples\n",
        "    if np.sum(mask) == 0:  # Edge case: no churn in fold\n",
        "        return np.nan\n",
        "    y_true_churn = y_true[mask]\n",
        "    y_pred_churn = y_pred[mask]\n",
        "    return f1_score(y_true_churn, y_pred_churn, average='macro', zero_division=0)\n",
        "\n",
        "churn_recall_scorer = make_scorer(churn_recall)\n",
        "churn_f1_scorer = make_scorer(churn_f1)"
      ],
      "metadata": {
        "id": "Jm5t8hnOmxKC"
      },
      "execution_count": 40,
      "outputs": []
    },
    {
      "cell_type": "code",
      "source": [
        "# Calculate total combinations\n",
        "param_combinations = list(itertools.product(\n",
        "    grid['n_estimators'],\n",
        "    grid['learning_rate'],\n",
        "    grid['estimator']\n",
        "))\n",
        "n_combinations = len(param_combinations)\n",
        "print(f\"Starting Grid Search with {n_combinations} combinations...\")\n",
        "\n",
        "# Store results\n",
        "results = {\n",
        "    'params': [],\n",
        "    'mean_accuracy': [],\n",
        "    'mean_recall_macro': [],\n",
        "    'mean_churn_recall': [],\n",
        "    'mean_f1_macro': [],\n",
        "    'mean_churn_f1': []\n",
        "}\n",
        "\n",
        "# Progress bar with real-time updates\n",
        "with tqdm(total=n_combinations, desc=\"Parameter combinations\", unit=\"combo\") as pbar:\n",
        "    for idx, (n_est, lr, est) in enumerate(param_combinations, 1):\n",
        "        current_model = AdaBoostClassifier(\n",
        "            n_estimators=n_est,\n",
        "            learning_rate=lr,\n",
        "            estimator=est\n",
        "        )\n",
        "\n",
        "        # Cross-validate with multiple metrics\n",
        "        scores = cross_validate(\n",
        "            current_model,\n",
        "            X_train,\n",
        "            Y_train,\n",
        "            cv=cv,\n",
        "            scoring={\n",
        "                'accuracy': 'accuracy',\n",
        "                'recall_macro': 'recall_macro',\n",
        "                'churn_recall': churn_recall_scorer,\n",
        "                'f1_macro': 'f1_macro',\n",
        "                'churn_f1': churn_f1_scorer\n",
        "            },\n",
        "            n_jobs=-1\n",
        "        )\n",
        "\n",
        "        # Extract mean scores\n",
        "        mean_acc = np.mean(scores['test_accuracy'])\n",
        "        mean_rec_macro = np.mean(scores['test_recall_macro'])\n",
        "        mean_churn_rec = np.nanmean(scores['test_churn_recall'])\n",
        "        mean_f1_macro = np.mean(scores['test_f1_macro'])\n",
        "        mean_churn_f1 = np.nanmean(scores['test_churn_f1'])\n",
        "\n",
        "        # Store results\n",
        "        results['params'].append({'n_estimators': n_est, 'learning_rate': lr, 'estimator': est})\n",
        "        results['mean_accuracy'].append(mean_acc)\n",
        "        results['mean_recall_macro'].append(mean_rec_macro)\n",
        "        results['mean_churn_recall'].append(mean_churn_rec)\n",
        "        results['mean_f1_macro'].append(mean_f1_macro)\n",
        "        results['mean_churn_f1'].append(mean_churn_f1)\n",
        "\n",
        "        # Print progress\n",
        "        print(f\"\\nCombination {idx}/{n_combinations}:\")\n",
        "        print(f\"Parameters: n_estimators={n_est}, learning_rate={lr}, max_depth={est.max_depth}\")\n",
        "        print(f\"Mean Accuracy: {mean_acc:.4f}\")\n",
        "        print(f\"Mean Recall (macro, all classes): {mean_rec_macro:.4f}\")\n",
        "        print(f\"Mean Churn Recall (classes 1-4): {mean_churn_rec:.4f}\")\n",
        "        print(f\"Mean F1 (macro, all classes): {mean_f1_macro:.4f}\")\n",
        "        print(f\"Mean Churn F1 (classes 1-4): {mean_churn_f1:.4f}\")\n",
        "        print(\"-\" * 50)\n",
        "\n",
        "        pbar.update(1)\n",
        "\n",
        "# Find best combination based on churn F1 (or churn recall, your choice)\n",
        "best_idx = np.argmax(results['mean_churn_f1'])  # Switch to 'mean_churn_recall' if preferred\n",
        "best_params = results['params'][best_idx]\n",
        "best_churn_f1 = results['mean_churn_f1'][best_idx]\n",
        "best_churn_recall = results['mean_churn_recall'][best_idx]\n",
        "\n",
        "print(\"\\nBest Configuration (by Churn F1):\")\n",
        "print(f\"Best Churn F1: {best_churn_f1:.4f}\")\n",
        "print(f\"Best Churn Recall: {best_churn_recall:.4f}\")\n",
        "print(f\"Best Parameters: n_estimators={best_params['n_estimators']}, \"\n",
        "      f\"learning_rate={best_params['learning_rate']}, \"\n",
        "      f\"max_depth={best_params['estimator'].max_depth}\")"
      ],
      "metadata": {
        "colab": {
          "base_uri": "https://localhost:8080/"
        },
        "id": "gPCmpSRHeXEp",
        "outputId": "622274be-bf4b-45ee-d17c-53d267540130"
      },
      "execution_count": 41,
      "outputs": [
        {
          "output_type": "stream",
          "name": "stdout",
          "text": [
            "Starting Grid Search with 125 combinations...\n"
          ]
        },
        {
          "output_type": "stream",
          "name": "stderr",
          "text": [
            "Parameter combinations:   1%|          | 1/125 [00:06<12:42,  6.15s/combo]"
          ]
        },
        {
          "output_type": "stream",
          "name": "stdout",
          "text": [
            "\n",
            "Combination 1/125:\n",
            "Parameters: n_estimators=30, learning_rate=0.01, max_depth=1\n",
            "Mean Accuracy: 0.8086\n",
            "Mean Recall (macro, all classes): 0.2684\n",
            "Mean Churn Recall (classes 1-4): 0.1017\n",
            "Mean F1 (macro, all classes): 0.2434\n",
            "Mean Churn F1 (classes 1-4): 0.0884\n",
            "--------------------------------------------------\n"
          ]
        },
        {
          "output_type": "stream",
          "name": "stderr",
          "text": [
            "\rParameter combinations:   2%|▏         | 2/125 [00:16<17:14,  8.41s/combo]"
          ]
        },
        {
          "output_type": "stream",
          "name": "stdout",
          "text": [
            "\n",
            "Combination 2/125:\n",
            "Parameters: n_estimators=30, learning_rate=0.01, max_depth=3\n",
            "Mean Accuracy: 0.8076\n",
            "Mean Recall (macro, all classes): 0.2705\n",
            "Mean Churn Recall (classes 1-4): 0.1038\n",
            "Mean F1 (macro, all classes): 0.2495\n",
            "Mean Churn F1 (classes 1-4): 0.0946\n",
            "--------------------------------------------------\n"
          ]
        },
        {
          "output_type": "stream",
          "name": "stderr",
          "text": [
            "\rParameter combinations:   2%|▏         | 3/125 [00:28<20:36, 10.14s/combo]"
          ]
        },
        {
          "output_type": "stream",
          "name": "stdout",
          "text": [
            "\n",
            "Combination 3/125:\n",
            "Parameters: n_estimators=30, learning_rate=0.01, max_depth=5\n",
            "Mean Accuracy: 0.8056\n",
            "Mean Recall (macro, all classes): 0.2763\n",
            "Mean Churn Recall (classes 1-4): 0.1098\n",
            "Mean F1 (macro, all classes): 0.2695\n",
            "Mean Churn F1 (classes 1-4): 0.1147\n",
            "--------------------------------------------------\n"
          ]
        },
        {
          "output_type": "stream",
          "name": "stderr",
          "text": [
            "\rParameter combinations:   3%|▎         | 4/125 [00:43<24:40, 12.23s/combo]"
          ]
        },
        {
          "output_type": "stream",
          "name": "stdout",
          "text": [
            "\n",
            "Combination 4/125:\n",
            "Parameters: n_estimators=30, learning_rate=0.01, max_depth=7\n",
            "Mean Accuracy: 0.8082\n",
            "Mean Recall (macro, all classes): 0.2989\n",
            "Mean Churn Recall (classes 1-4): 0.1339\n",
            "Mean F1 (macro, all classes): 0.2971\n",
            "Mean Churn F1 (classes 1-4): 0.1433\n",
            "--------------------------------------------------\n"
          ]
        },
        {
          "output_type": "stream",
          "name": "stderr",
          "text": [
            "\rParameter combinations:   4%|▍         | 5/125 [01:03<29:43, 14.86s/combo]"
          ]
        },
        {
          "output_type": "stream",
          "name": "stdout",
          "text": [
            "\n",
            "Combination 5/125:\n",
            "Parameters: n_estimators=30, learning_rate=0.01, max_depth=10\n",
            "Mean Accuracy: 0.8015\n",
            "Mean Recall (macro, all classes): 0.3076\n",
            "Mean Churn Recall (classes 1-4): 0.1440\n",
            "Mean F1 (macro, all classes): 0.3112\n",
            "Mean Churn F1 (classes 1-4): 0.1592\n",
            "--------------------------------------------------\n"
          ]
        },
        {
          "output_type": "stream",
          "name": "stderr",
          "text": [
            "\rParameter combinations:   5%|▍         | 6/125 [01:07<22:15, 11.22s/combo]"
          ]
        },
        {
          "output_type": "stream",
          "name": "stdout",
          "text": [
            "\n",
            "Combination 6/125:\n",
            "Parameters: n_estimators=30, learning_rate=0.05, max_depth=1\n",
            "Mean Accuracy: 0.8086\n",
            "Mean Recall (macro, all classes): 0.2684\n",
            "Mean Churn Recall (classes 1-4): 0.1017\n",
            "Mean F1 (macro, all classes): 0.2434\n",
            "Mean Churn F1 (classes 1-4): 0.0884\n",
            "--------------------------------------------------\n"
          ]
        },
        {
          "output_type": "stream",
          "name": "stderr",
          "text": [
            "\rParameter combinations:   6%|▌         | 7/125 [01:17<20:59, 10.68s/combo]"
          ]
        },
        {
          "output_type": "stream",
          "name": "stdout",
          "text": [
            "\n",
            "Combination 7/125:\n",
            "Parameters: n_estimators=30, learning_rate=0.05, max_depth=3\n",
            "Mean Accuracy: 0.8082\n",
            "Mean Recall (macro, all classes): 0.2693\n",
            "Mean Churn Recall (classes 1-4): 0.1026\n",
            "Mean F1 (macro, all classes): 0.2476\n",
            "Mean Churn F1 (classes 1-4): 0.0927\n",
            "--------------------------------------------------\n"
          ]
        },
        {
          "output_type": "stream",
          "name": "stderr",
          "text": [
            "\rParameter combinations:   6%|▋         | 8/125 [01:29<21:48, 11.18s/combo]"
          ]
        },
        {
          "output_type": "stream",
          "name": "stdout",
          "text": [
            "\n",
            "Combination 8/125:\n",
            "Parameters: n_estimators=30, learning_rate=0.05, max_depth=5\n",
            "Mean Accuracy: 0.8074\n",
            "Mean Recall (macro, all classes): 0.2760\n",
            "Mean Churn Recall (classes 1-4): 0.1095\n",
            "Mean F1 (macro, all classes): 0.2663\n",
            "Mean Churn F1 (classes 1-4): 0.1114\n",
            "--------------------------------------------------\n"
          ]
        },
        {
          "output_type": "stream",
          "name": "stderr",
          "text": [
            "\rParameter combinations:   7%|▋         | 9/125 [01:44<23:52, 12.35s/combo]"
          ]
        },
        {
          "output_type": "stream",
          "name": "stdout",
          "text": [
            "\n",
            "Combination 9/125:\n",
            "Parameters: n_estimators=30, learning_rate=0.05, max_depth=7\n",
            "Mean Accuracy: 0.8081\n",
            "Mean Recall (macro, all classes): 0.2888\n",
            "Mean Churn Recall (classes 1-4): 0.1233\n",
            "Mean F1 (macro, all classes): 0.2815\n",
            "Mean Churn F1 (classes 1-4): 0.1271\n",
            "--------------------------------------------------\n"
          ]
        },
        {
          "output_type": "stream",
          "name": "stderr",
          "text": [
            "\rParameter combinations:   8%|▊         | 10/125 [02:02<27:15, 14.22s/combo]"
          ]
        },
        {
          "output_type": "stream",
          "name": "stdout",
          "text": [
            "\n",
            "Combination 10/125:\n",
            "Parameters: n_estimators=30, learning_rate=0.05, max_depth=10\n",
            "Mean Accuracy: 0.8032\n",
            "Mean Recall (macro, all classes): 0.3013\n",
            "Mean Churn Recall (classes 1-4): 0.1375\n",
            "Mean F1 (macro, all classes): 0.3002\n",
            "Mean Churn F1 (classes 1-4): 0.1477\n",
            "--------------------------------------------------\n"
          ]
        },
        {
          "output_type": "stream",
          "name": "stderr",
          "text": [
            "\rParameter combinations:   9%|▉         | 11/125 [02:06<21:08, 11.13s/combo]"
          ]
        },
        {
          "output_type": "stream",
          "name": "stdout",
          "text": [
            "\n",
            "Combination 11/125:\n",
            "Parameters: n_estimators=30, learning_rate=0.1, max_depth=1\n",
            "Mean Accuracy: 0.8086\n",
            "Mean Recall (macro, all classes): 0.2684\n",
            "Mean Churn Recall (classes 1-4): 0.1017\n",
            "Mean F1 (macro, all classes): 0.2434\n",
            "Mean Churn F1 (classes 1-4): 0.0884\n",
            "--------------------------------------------------\n"
          ]
        },
        {
          "output_type": "stream",
          "name": "stderr",
          "text": [
            "\rParameter combinations:  10%|▉         | 12/125 [02:16<19:57, 10.60s/combo]"
          ]
        },
        {
          "output_type": "stream",
          "name": "stdout",
          "text": [
            "\n",
            "Combination 12/125:\n",
            "Parameters: n_estimators=30, learning_rate=0.1, max_depth=3\n",
            "Mean Accuracy: 0.8081\n",
            "Mean Recall (macro, all classes): 0.2726\n",
            "Mean Churn Recall (classes 1-4): 0.1059\n",
            "Mean F1 (macro, all classes): 0.2569\n",
            "Mean Churn F1 (classes 1-4): 0.1019\n",
            "--------------------------------------------------\n"
          ]
        },
        {
          "output_type": "stream",
          "name": "stderr",
          "text": [
            "\rParameter combinations:  10%|█         | 13/125 [02:28<21:02, 11.28s/combo]"
          ]
        },
        {
          "output_type": "stream",
          "name": "stdout",
          "text": [
            "\n",
            "Combination 13/125:\n",
            "Parameters: n_estimators=30, learning_rate=0.1, max_depth=5\n",
            "Mean Accuracy: 0.8081\n",
            "Mean Recall (macro, all classes): 0.2788\n",
            "Mean Churn Recall (classes 1-4): 0.1123\n",
            "Mean F1 (macro, all classes): 0.2700\n",
            "Mean Churn F1 (classes 1-4): 0.1148\n",
            "--------------------------------------------------\n"
          ]
        },
        {
          "output_type": "stream",
          "name": "stderr",
          "text": [
            "\rParameter combinations:  11%|█         | 14/125 [02:43<22:47, 12.32s/combo]"
          ]
        },
        {
          "output_type": "stream",
          "name": "stdout",
          "text": [
            "\n",
            "Combination 14/125:\n",
            "Parameters: n_estimators=30, learning_rate=0.1, max_depth=7\n",
            "Mean Accuracy: 0.8093\n",
            "Mean Recall (macro, all classes): 0.2952\n",
            "Mean Churn Recall (classes 1-4): 0.1298\n",
            "Mean F1 (macro, all classes): 0.2918\n",
            "Mean Churn F1 (classes 1-4): 0.1373\n",
            "--------------------------------------------------\n"
          ]
        },
        {
          "output_type": "stream",
          "name": "stderr",
          "text": [
            "\rParameter combinations:  12%|█▏        | 15/125 [03:01<25:54, 14.13s/combo]"
          ]
        },
        {
          "output_type": "stream",
          "name": "stdout",
          "text": [
            "\n",
            "Combination 15/125:\n",
            "Parameters: n_estimators=30, learning_rate=0.1, max_depth=10\n",
            "Mean Accuracy: 0.8019\n",
            "Mean Recall (macro, all classes): 0.2926\n",
            "Mean Churn Recall (classes 1-4): 0.1286\n",
            "Mean F1 (macro, all classes): 0.2870\n",
            "Mean Churn F1 (classes 1-4): 0.1335\n",
            "--------------------------------------------------\n"
          ]
        },
        {
          "output_type": "stream",
          "name": "stderr",
          "text": [
            "\rParameter combinations:  13%|█▎        | 16/125 [03:06<20:11, 11.12s/combo]"
          ]
        },
        {
          "output_type": "stream",
          "name": "stdout",
          "text": [
            "\n",
            "Combination 16/125:\n",
            "Parameters: n_estimators=30, learning_rate=0.3, max_depth=1\n",
            "Mean Accuracy: 0.8086\n",
            "Mean Recall (macro, all classes): 0.2684\n",
            "Mean Churn Recall (classes 1-4): 0.1017\n",
            "Mean F1 (macro, all classes): 0.2434\n",
            "Mean Churn F1 (classes 1-4): 0.0884\n",
            "--------------------------------------------------\n"
          ]
        },
        {
          "output_type": "stream",
          "name": "stderr",
          "text": [
            "\rParameter combinations:  14%|█▎        | 17/125 [03:15<19:07, 10.63s/combo]"
          ]
        },
        {
          "output_type": "stream",
          "name": "stdout",
          "text": [
            "\n",
            "Combination 17/125:\n",
            "Parameters: n_estimators=30, learning_rate=0.3, max_depth=3\n",
            "Mean Accuracy: 0.8090\n",
            "Mean Recall (macro, all classes): 0.2852\n",
            "Mean Churn Recall (classes 1-4): 0.1186\n",
            "Mean F1 (macro, all classes): 0.2815\n",
            "Mean Churn F1 (classes 1-4): 0.1265\n",
            "--------------------------------------------------\n"
          ]
        },
        {
          "output_type": "stream",
          "name": "stderr",
          "text": [
            "\rParameter combinations:  14%|█▍        | 18/125 [03:28<20:03, 11.25s/combo]"
          ]
        },
        {
          "output_type": "stream",
          "name": "stdout",
          "text": [
            "\n",
            "Combination 18/125:\n",
            "Parameters: n_estimators=30, learning_rate=0.3, max_depth=5\n",
            "Mean Accuracy: 0.8101\n",
            "Mean Recall (macro, all classes): 0.2977\n",
            "Mean Churn Recall (classes 1-4): 0.1324\n",
            "Mean F1 (macro, all classes): 0.2943\n",
            "Mean Churn F1 (classes 1-4): 0.1397\n",
            "--------------------------------------------------\n"
          ]
        },
        {
          "output_type": "stream",
          "name": "stderr",
          "text": [
            "\rParameter combinations:  15%|█▌        | 19/125 [03:44<22:35, 12.79s/combo]"
          ]
        },
        {
          "output_type": "stream",
          "name": "stdout",
          "text": [
            "\n",
            "Combination 19/125:\n",
            "Parameters: n_estimators=30, learning_rate=0.3, max_depth=7\n",
            "Mean Accuracy: 0.8074\n",
            "Mean Recall (macro, all classes): 0.3002\n",
            "Mean Churn Recall (classes 1-4): 0.1357\n",
            "Mean F1 (macro, all classes): 0.2973\n",
            "Mean Churn F1 (classes 1-4): 0.1436\n",
            "--------------------------------------------------\n"
          ]
        },
        {
          "output_type": "stream",
          "name": "stderr",
          "text": [
            "\rParameter combinations:  16%|█▌        | 20/125 [04:06<27:05, 15.48s/combo]"
          ]
        },
        {
          "output_type": "stream",
          "name": "stdout",
          "text": [
            "\n",
            "Combination 20/125:\n",
            "Parameters: n_estimators=30, learning_rate=0.3, max_depth=10\n",
            "Mean Accuracy: 0.8071\n",
            "Mean Recall (macro, all classes): 0.2966\n",
            "Mean Churn Recall (classes 1-4): 0.1318\n",
            "Mean F1 (macro, all classes): 0.2902\n",
            "Mean Churn F1 (classes 1-4): 0.1360\n",
            "--------------------------------------------------\n"
          ]
        },
        {
          "output_type": "stream",
          "name": "stderr",
          "text": [
            "\rParameter combinations:  17%|█▋        | 21/125 [04:12<22:00, 12.70s/combo]"
          ]
        },
        {
          "output_type": "stream",
          "name": "stdout",
          "text": [
            "\n",
            "Combination 21/125:\n",
            "Parameters: n_estimators=30, learning_rate=0.5, max_depth=1\n",
            "Mean Accuracy: 0.8086\n",
            "Mean Recall (macro, all classes): 0.2684\n",
            "Mean Churn Recall (classes 1-4): 0.1017\n",
            "Mean F1 (macro, all classes): 0.2434\n",
            "Mean Churn F1 (classes 1-4): 0.0884\n",
            "--------------------------------------------------\n"
          ]
        },
        {
          "output_type": "stream",
          "name": "stderr",
          "text": [
            "\rParameter combinations:  18%|█▊        | 22/125 [04:20<19:17, 11.24s/combo]"
          ]
        },
        {
          "output_type": "stream",
          "name": "stdout",
          "text": [
            "\n",
            "Combination 22/125:\n",
            "Parameters: n_estimators=30, learning_rate=0.5, max_depth=3\n",
            "Mean Accuracy: 0.8069\n",
            "Mean Recall (macro, all classes): 0.2782\n",
            "Mean Churn Recall (classes 1-4): 0.1117\n",
            "Mean F1 (macro, all classes): 0.2689\n",
            "Mean Churn F1 (classes 1-4): 0.1139\n",
            "--------------------------------------------------\n"
          ]
        },
        {
          "output_type": "stream",
          "name": "stderr",
          "text": [
            "\rParameter combinations:  18%|█▊        | 23/125 [04:34<20:16, 11.93s/combo]"
          ]
        },
        {
          "output_type": "stream",
          "name": "stdout",
          "text": [
            "\n",
            "Combination 23/125:\n",
            "Parameters: n_estimators=30, learning_rate=0.5, max_depth=5\n",
            "Mean Accuracy: 0.8099\n",
            "Mean Recall (macro, all classes): 0.3059\n",
            "Mean Churn Recall (classes 1-4): 0.1416\n",
            "Mean F1 (macro, all classes): 0.3010\n",
            "Mean Churn F1 (classes 1-4): 0.1475\n",
            "--------------------------------------------------\n"
          ]
        },
        {
          "output_type": "stream",
          "name": "stderr",
          "text": [
            "\rParameter combinations:  19%|█▉        | 24/125 [04:51<22:54, 13.61s/combo]"
          ]
        },
        {
          "output_type": "stream",
          "name": "stdout",
          "text": [
            "\n",
            "Combination 24/125:\n",
            "Parameters: n_estimators=30, learning_rate=0.5, max_depth=7\n",
            "Mean Accuracy: 0.8077\n",
            "Mean Recall (macro, all classes): 0.3127\n",
            "Mean Churn Recall (classes 1-4): 0.1489\n",
            "Mean F1 (macro, all classes): 0.3129\n",
            "Mean Churn F1 (classes 1-4): 0.1606\n",
            "--------------------------------------------------\n"
          ]
        },
        {
          "output_type": "stream",
          "name": "stderr",
          "text": [
            "\rParameter combinations:  20%|██        | 25/125 [05:16<28:18, 16.99s/combo]"
          ]
        },
        {
          "output_type": "stream",
          "name": "stdout",
          "text": [
            "\n",
            "Combination 25/125:\n",
            "Parameters: n_estimators=30, learning_rate=0.5, max_depth=10\n",
            "Mean Accuracy: 0.8034\n",
            "Mean Recall (macro, all classes): 0.2900\n",
            "Mean Churn Recall (classes 1-4): 0.1251\n",
            "Mean F1 (macro, all classes): 0.2871\n",
            "Mean Churn F1 (classes 1-4): 0.1330\n",
            "--------------------------------------------------\n"
          ]
        },
        {
          "output_type": "stream",
          "name": "stderr",
          "text": [
            "\rParameter combinations:  21%|██        | 26/125 [05:23<22:59, 13.93s/combo]"
          ]
        },
        {
          "output_type": "stream",
          "name": "stdout",
          "text": [
            "\n",
            "Combination 26/125:\n",
            "Parameters: n_estimators=50, learning_rate=0.01, max_depth=1\n",
            "Mean Accuracy: 0.8086\n",
            "Mean Recall (macro, all classes): 0.2684\n",
            "Mean Churn Recall (classes 1-4): 0.1017\n",
            "Mean F1 (macro, all classes): 0.2434\n",
            "Mean Churn F1 (classes 1-4): 0.0884\n",
            "--------------------------------------------------\n"
          ]
        },
        {
          "output_type": "stream",
          "name": "stderr",
          "text": [
            "\rParameter combinations:  22%|██▏       | 27/125 [05:37<23:07, 14.15s/combo]"
          ]
        },
        {
          "output_type": "stream",
          "name": "stdout",
          "text": [
            "\n",
            "Combination 27/125:\n",
            "Parameters: n_estimators=50, learning_rate=0.01, max_depth=3\n",
            "Mean Accuracy: 0.8075\n",
            "Mean Recall (macro, all classes): 0.2695\n",
            "Mean Churn Recall (classes 1-4): 0.1029\n",
            "Mean F1 (macro, all classes): 0.2496\n",
            "Mean Churn F1 (classes 1-4): 0.0946\n",
            "--------------------------------------------------\n"
          ]
        },
        {
          "output_type": "stream",
          "name": "stderr",
          "text": [
            "\rParameter combinations:  22%|██▏       | 28/125 [05:59<26:22, 16.31s/combo]"
          ]
        },
        {
          "output_type": "stream",
          "name": "stdout",
          "text": [
            "\n",
            "Combination 28/125:\n",
            "Parameters: n_estimators=50, learning_rate=0.01, max_depth=5\n",
            "Mean Accuracy: 0.8070\n",
            "Mean Recall (macro, all classes): 0.2790\n",
            "Mean Churn Recall (classes 1-4): 0.1125\n",
            "Mean F1 (macro, all classes): 0.2732\n",
            "Mean Churn F1 (classes 1-4): 0.1184\n",
            "--------------------------------------------------\n"
          ]
        },
        {
          "output_type": "stream",
          "name": "stderr",
          "text": [
            "\rParameter combinations:  23%|██▎       | 29/125 [06:23<30:00, 18.76s/combo]"
          ]
        },
        {
          "output_type": "stream",
          "name": "stdout",
          "text": [
            "\n",
            "Combination 29/125:\n",
            "Parameters: n_estimators=50, learning_rate=0.01, max_depth=7\n",
            "Mean Accuracy: 0.8074\n",
            "Mean Recall (macro, all classes): 0.2924\n",
            "Mean Churn Recall (classes 1-4): 0.1271\n",
            "Mean F1 (macro, all classes): 0.2896\n",
            "Mean Churn F1 (classes 1-4): 0.1354\n",
            "--------------------------------------------------\n"
          ]
        },
        {
          "output_type": "stream",
          "name": "stderr",
          "text": [
            "\rParameter combinations:  24%|██▍       | 30/125 [06:56<36:28, 23.04s/combo]"
          ]
        },
        {
          "output_type": "stream",
          "name": "stdout",
          "text": [
            "\n",
            "Combination 30/125:\n",
            "Parameters: n_estimators=50, learning_rate=0.01, max_depth=10\n",
            "Mean Accuracy: 0.8025\n",
            "Mean Recall (macro, all classes): 0.3044\n",
            "Mean Churn Recall (classes 1-4): 0.1405\n",
            "Mean F1 (macro, all classes): 0.3061\n",
            "Mean Churn F1 (classes 1-4): 0.1538\n",
            "--------------------------------------------------\n"
          ]
        },
        {
          "output_type": "stream",
          "name": "stderr",
          "text": [
            "\rParameter combinations:  25%|██▍       | 31/125 [07:03<28:25, 18.14s/combo]"
          ]
        },
        {
          "output_type": "stream",
          "name": "stdout",
          "text": [
            "\n",
            "Combination 31/125:\n",
            "Parameters: n_estimators=50, learning_rate=0.05, max_depth=1\n",
            "Mean Accuracy: 0.8086\n",
            "Mean Recall (macro, all classes): 0.2684\n",
            "Mean Churn Recall (classes 1-4): 0.1017\n",
            "Mean F1 (macro, all classes): 0.2434\n",
            "Mean Churn F1 (classes 1-4): 0.0884\n",
            "--------------------------------------------------\n"
          ]
        },
        {
          "output_type": "stream",
          "name": "stderr",
          "text": [
            "\rParameter combinations:  26%|██▌       | 32/125 [07:17<26:12, 16.91s/combo]"
          ]
        },
        {
          "output_type": "stream",
          "name": "stdout",
          "text": [
            "\n",
            "Combination 32/125:\n",
            "Parameters: n_estimators=50, learning_rate=0.05, max_depth=3\n",
            "Mean Accuracy: 0.8081\n",
            "Mean Recall (macro, all classes): 0.2699\n",
            "Mean Churn Recall (classes 1-4): 0.1032\n",
            "Mean F1 (macro, all classes): 0.2499\n",
            "Mean Churn F1 (classes 1-4): 0.0949\n",
            "--------------------------------------------------\n"
          ]
        },
        {
          "output_type": "stream",
          "name": "stderr",
          "text": [
            "\rParameter combinations:  26%|██▋       | 33/125 [07:36<26:45, 17.45s/combo]"
          ]
        },
        {
          "output_type": "stream",
          "name": "stdout",
          "text": [
            "\n",
            "Combination 33/125:\n",
            "Parameters: n_estimators=50, learning_rate=0.05, max_depth=5\n",
            "Mean Accuracy: 0.8093\n",
            "Mean Recall (macro, all classes): 0.2795\n",
            "Mean Churn Recall (classes 1-4): 0.1130\n",
            "Mean F1 (macro, all classes): 0.2703\n",
            "Mean Churn F1 (classes 1-4): 0.1152\n",
            "--------------------------------------------------\n"
          ]
        },
        {
          "output_type": "stream",
          "name": "stderr",
          "text": [
            "\rParameter combinations:  27%|██▋       | 34/125 [08:01<29:53, 19.71s/combo]"
          ]
        },
        {
          "output_type": "stream",
          "name": "stdout",
          "text": [
            "\n",
            "Combination 34/125:\n",
            "Parameters: n_estimators=50, learning_rate=0.05, max_depth=7\n",
            "Mean Accuracy: 0.8081\n",
            "Mean Recall (macro, all classes): 0.2861\n",
            "Mean Churn Recall (classes 1-4): 0.1206\n",
            "Mean F1 (macro, all classes): 0.2760\n",
            "Mean Churn F1 (classes 1-4): 0.1216\n",
            "--------------------------------------------------\n"
          ]
        },
        {
          "output_type": "stream",
          "name": "stderr",
          "text": [
            "\rParameter combinations:  28%|██▊       | 35/125 [08:32<34:39, 23.11s/combo]"
          ]
        },
        {
          "output_type": "stream",
          "name": "stdout",
          "text": [
            "\n",
            "Combination 35/125:\n",
            "Parameters: n_estimators=50, learning_rate=0.05, max_depth=10\n",
            "Mean Accuracy: 0.8044\n",
            "Mean Recall (macro, all classes): 0.3021\n",
            "Mean Churn Recall (classes 1-4): 0.1383\n",
            "Mean F1 (macro, all classes): 0.2994\n",
            "Mean Churn F1 (classes 1-4): 0.1466\n",
            "--------------------------------------------------\n"
          ]
        },
        {
          "output_type": "stream",
          "name": "stderr",
          "text": [
            "\rParameter combinations:  29%|██▉       | 36/125 [08:40<27:36, 18.62s/combo]"
          ]
        },
        {
          "output_type": "stream",
          "name": "stdout",
          "text": [
            "\n",
            "Combination 36/125:\n",
            "Parameters: n_estimators=50, learning_rate=0.1, max_depth=1\n",
            "Mean Accuracy: 0.8086\n",
            "Mean Recall (macro, all classes): 0.2684\n",
            "Mean Churn Recall (classes 1-4): 0.1017\n",
            "Mean F1 (macro, all classes): 0.2434\n",
            "Mean Churn F1 (classes 1-4): 0.0884\n",
            "--------------------------------------------------\n"
          ]
        },
        {
          "output_type": "stream",
          "name": "stderr",
          "text": [
            "\rParameter combinations:  30%|██▉       | 37/125 [08:53<24:55, 16.99s/combo]"
          ]
        },
        {
          "output_type": "stream",
          "name": "stdout",
          "text": [
            "\n",
            "Combination 37/125:\n",
            "Parameters: n_estimators=50, learning_rate=0.1, max_depth=3\n",
            "Mean Accuracy: 0.8082\n",
            "Mean Recall (macro, all classes): 0.2733\n",
            "Mean Churn Recall (classes 1-4): 0.1066\n",
            "Mean F1 (macro, all classes): 0.2584\n",
            "Mean Churn F1 (classes 1-4): 0.1034\n",
            "--------------------------------------------------\n"
          ]
        },
        {
          "output_type": "stream",
          "name": "stderr",
          "text": [
            "\rParameter combinations:  30%|███       | 38/125 [09:13<25:54, 17.87s/combo]"
          ]
        },
        {
          "output_type": "stream",
          "name": "stdout",
          "text": [
            "\n",
            "Combination 38/125:\n",
            "Parameters: n_estimators=50, learning_rate=0.1, max_depth=5\n",
            "Mean Accuracy: 0.8101\n",
            "Mean Recall (macro, all classes): 0.2826\n",
            "Mean Churn Recall (classes 1-4): 0.1161\n",
            "Mean F1 (macro, all classes): 0.2732\n",
            "Mean Churn F1 (classes 1-4): 0.1179\n",
            "--------------------------------------------------\n"
          ]
        },
        {
          "output_type": "stream",
          "name": "stderr",
          "text": [
            "\rParameter combinations:  31%|███       | 39/125 [09:36<27:46, 19.37s/combo]"
          ]
        },
        {
          "output_type": "stream",
          "name": "stdout",
          "text": [
            "\n",
            "Combination 39/125:\n",
            "Parameters: n_estimators=50, learning_rate=0.1, max_depth=7\n",
            "Mean Accuracy: 0.8102\n",
            "Mean Recall (macro, all classes): 0.2963\n",
            "Mean Churn Recall (classes 1-4): 0.1311\n",
            "Mean F1 (macro, all classes): 0.2896\n",
            "Mean Churn F1 (classes 1-4): 0.1353\n",
            "--------------------------------------------------\n"
          ]
        },
        {
          "output_type": "stream",
          "name": "stderr",
          "text": [
            "\rParameter combinations:  32%|███▏      | 40/125 [10:08<32:56, 23.26s/combo]"
          ]
        },
        {
          "output_type": "stream",
          "name": "stdout",
          "text": [
            "\n",
            "Combination 40/125:\n",
            "Parameters: n_estimators=50, learning_rate=0.1, max_depth=10\n",
            "Mean Accuracy: 0.8058\n",
            "Mean Recall (macro, all classes): 0.3039\n",
            "Mean Churn Recall (classes 1-4): 0.1399\n",
            "Mean F1 (macro, all classes): 0.3010\n",
            "Mean Churn F1 (classes 1-4): 0.1480\n",
            "--------------------------------------------------\n"
          ]
        },
        {
          "output_type": "stream",
          "name": "stderr",
          "text": [
            "\rParameter combinations:  33%|███▎      | 41/125 [10:16<25:57, 18.54s/combo]"
          ]
        },
        {
          "output_type": "stream",
          "name": "stdout",
          "text": [
            "\n",
            "Combination 41/125:\n",
            "Parameters: n_estimators=50, learning_rate=0.3, max_depth=1\n",
            "Mean Accuracy: 0.8086\n",
            "Mean Recall (macro, all classes): 0.2684\n",
            "Mean Churn Recall (classes 1-4): 0.1017\n",
            "Mean F1 (macro, all classes): 0.2434\n",
            "Mean Churn F1 (classes 1-4): 0.0884\n",
            "--------------------------------------------------\n"
          ]
        },
        {
          "output_type": "stream",
          "name": "stderr",
          "text": [
            "\rParameter combinations:  34%|███▎      | 42/125 [10:30<24:01, 17.37s/combo]"
          ]
        },
        {
          "output_type": "stream",
          "name": "stdout",
          "text": [
            "\n",
            "Combination 42/125:\n",
            "Parameters: n_estimators=50, learning_rate=0.3, max_depth=3\n",
            "Mean Accuracy: 0.8101\n",
            "Mean Recall (macro, all classes): 0.2866\n",
            "Mean Churn Recall (classes 1-4): 0.1200\n",
            "Mean F1 (macro, all classes): 0.2831\n",
            "Mean Churn F1 (classes 1-4): 0.1280\n",
            "--------------------------------------------------\n"
          ]
        },
        {
          "output_type": "stream",
          "name": "stderr",
          "text": [
            "\rParameter combinations:  34%|███▍      | 43/125 [10:51<25:12, 18.45s/combo]"
          ]
        },
        {
          "output_type": "stream",
          "name": "stdout",
          "text": [
            "\n",
            "Combination 43/125:\n",
            "Parameters: n_estimators=50, learning_rate=0.3, max_depth=5\n",
            "Mean Accuracy: 0.8102\n",
            "Mean Recall (macro, all classes): 0.2998\n",
            "Mean Churn Recall (classes 1-4): 0.1349\n",
            "Mean F1 (macro, all classes): 0.2938\n",
            "Mean Churn F1 (classes 1-4): 0.1397\n",
            "--------------------------------------------------\n"
          ]
        },
        {
          "output_type": "stream",
          "name": "stderr",
          "text": [
            "\rParameter combinations:  35%|███▌      | 44/125 [11:20<29:03, 21.52s/combo]"
          ]
        },
        {
          "output_type": "stream",
          "name": "stdout",
          "text": [
            "\n",
            "Combination 44/125:\n",
            "Parameters: n_estimators=50, learning_rate=0.3, max_depth=7\n",
            "Mean Accuracy: 0.8107\n",
            "Mean Recall (macro, all classes): 0.3095\n",
            "Mean Churn Recall (classes 1-4): 0.1450\n",
            "Mean F1 (macro, all classes): 0.3087\n",
            "Mean Churn F1 (classes 1-4): 0.1549\n",
            "--------------------------------------------------\n"
          ]
        },
        {
          "output_type": "stream",
          "name": "stderr",
          "text": [
            "\rParameter combinations:  36%|███▌      | 45/125 [12:00<36:08, 27.10s/combo]"
          ]
        },
        {
          "output_type": "stream",
          "name": "stdout",
          "text": [
            "\n",
            "Combination 45/125:\n",
            "Parameters: n_estimators=50, learning_rate=0.3, max_depth=10\n",
            "Mean Accuracy: 0.8076\n",
            "Mean Recall (macro, all classes): 0.2966\n",
            "Mean Churn Recall (classes 1-4): 0.1316\n",
            "Mean F1 (macro, all classes): 0.2936\n",
            "Mean Churn F1 (classes 1-4): 0.1393\n",
            "--------------------------------------------------\n"
          ]
        },
        {
          "output_type": "stream",
          "name": "stderr",
          "text": [
            "\rParameter combinations:  37%|███▋      | 46/125 [12:08<27:59, 21.26s/combo]"
          ]
        },
        {
          "output_type": "stream",
          "name": "stdout",
          "text": [
            "\n",
            "Combination 46/125:\n",
            "Parameters: n_estimators=50, learning_rate=0.5, max_depth=1\n",
            "Mean Accuracy: 0.8086\n",
            "Mean Recall (macro, all classes): 0.2684\n",
            "Mean Churn Recall (classes 1-4): 0.1017\n",
            "Mean F1 (macro, all classes): 0.2434\n",
            "Mean Churn F1 (classes 1-4): 0.0884\n",
            "--------------------------------------------------\n"
          ]
        },
        {
          "output_type": "stream",
          "name": "stderr",
          "text": [
            "\rParameter combinations:  38%|███▊      | 47/125 [12:23<25:13, 19.41s/combo]"
          ]
        },
        {
          "output_type": "stream",
          "name": "stdout",
          "text": [
            "\n",
            "Combination 47/125:\n",
            "Parameters: n_estimators=50, learning_rate=0.5, max_depth=3\n",
            "Mean Accuracy: 0.8081\n",
            "Mean Recall (macro, all classes): 0.2826\n",
            "Mean Churn Recall (classes 1-4): 0.1164\n",
            "Mean F1 (macro, all classes): 0.2746\n",
            "Mean Churn F1 (classes 1-4): 0.1199\n",
            "--------------------------------------------------\n"
          ]
        },
        {
          "output_type": "stream",
          "name": "stderr",
          "text": [
            "\rParameter combinations:  38%|███▊      | 48/125 [12:45<25:59, 20.25s/combo]"
          ]
        },
        {
          "output_type": "stream",
          "name": "stdout",
          "text": [
            "\n",
            "Combination 48/125:\n",
            "Parameters: n_estimators=50, learning_rate=0.5, max_depth=5\n",
            "Mean Accuracy: 0.8086\n",
            "Mean Recall (macro, all classes): 0.3085\n",
            "Mean Churn Recall (classes 1-4): 0.1443\n",
            "Mean F1 (macro, all classes): 0.3055\n",
            "Mean Churn F1 (classes 1-4): 0.1520\n",
            "--------------------------------------------------\n"
          ]
        },
        {
          "output_type": "stream",
          "name": "stderr",
          "text": [
            "\rParameter combinations:  39%|███▉      | 49/125 [13:15<29:31, 23.31s/combo]"
          ]
        },
        {
          "output_type": "stream",
          "name": "stdout",
          "text": [
            "\n",
            "Combination 49/125:\n",
            "Parameters: n_estimators=50, learning_rate=0.5, max_depth=7\n",
            "Mean Accuracy: 0.8029\n",
            "Mean Recall (macro, all classes): 0.3004\n",
            "Mean Churn Recall (classes 1-4): 0.1367\n",
            "Mean F1 (macro, all classes): 0.2961\n",
            "Mean Churn F1 (classes 1-4): 0.1434\n",
            "--------------------------------------------------\n"
          ]
        },
        {
          "output_type": "stream",
          "name": "stderr",
          "text": [
            "\rParameter combinations:  40%|████      | 50/125 [13:57<36:04, 28.86s/combo]"
          ]
        },
        {
          "output_type": "stream",
          "name": "stdout",
          "text": [
            "\n",
            "Combination 50/125:\n",
            "Parameters: n_estimators=50, learning_rate=0.5, max_depth=10\n",
            "Mean Accuracy: 0.8062\n",
            "Mean Recall (macro, all classes): 0.2875\n",
            "Mean Churn Recall (classes 1-4): 0.1222\n",
            "Mean F1 (macro, all classes): 0.2814\n",
            "Mean Churn F1 (classes 1-4): 0.1269\n",
            "--------------------------------------------------\n"
          ]
        },
        {
          "output_type": "stream",
          "name": "stderr",
          "text": [
            "\rParameter combinations:  41%|████      | 51/125 [14:12<30:22, 24.63s/combo]"
          ]
        },
        {
          "output_type": "stream",
          "name": "stdout",
          "text": [
            "\n",
            "Combination 51/125:\n",
            "Parameters: n_estimators=100, learning_rate=0.01, max_depth=1\n",
            "Mean Accuracy: 0.8086\n",
            "Mean Recall (macro, all classes): 0.2684\n",
            "Mean Churn Recall (classes 1-4): 0.1017\n",
            "Mean F1 (macro, all classes): 0.2434\n",
            "Mean Churn F1 (classes 1-4): 0.0884\n",
            "--------------------------------------------------\n"
          ]
        },
        {
          "output_type": "stream",
          "name": "stderr",
          "text": [
            "\rParameter combinations:  42%|████▏     | 52/125 [14:40<31:16, 25.71s/combo]"
          ]
        },
        {
          "output_type": "stream",
          "name": "stdout",
          "text": [
            "\n",
            "Combination 52/125:\n",
            "Parameters: n_estimators=100, learning_rate=0.01, max_depth=3\n",
            "Mean Accuracy: 0.8083\n",
            "Mean Recall (macro, all classes): 0.2683\n",
            "Mean Churn Recall (classes 1-4): 0.1016\n",
            "Mean F1 (macro, all classes): 0.2440\n",
            "Mean Churn F1 (classes 1-4): 0.0890\n",
            "--------------------------------------------------\n"
          ]
        },
        {
          "output_type": "stream",
          "name": "stderr",
          "text": [
            "\rParameter combinations:  42%|████▏     | 53/125 [15:18<35:17, 29.40s/combo]"
          ]
        },
        {
          "output_type": "stream",
          "name": "stdout",
          "text": [
            "\n",
            "Combination 53/125:\n",
            "Parameters: n_estimators=100, learning_rate=0.01, max_depth=5\n",
            "Mean Accuracy: 0.8074\n",
            "Mean Recall (macro, all classes): 0.2767\n",
            "Mean Churn Recall (classes 1-4): 0.1101\n",
            "Mean F1 (macro, all classes): 0.2678\n",
            "Mean Churn F1 (classes 1-4): 0.1129\n",
            "--------------------------------------------------\n"
          ]
        },
        {
          "output_type": "stream",
          "name": "stderr",
          "text": [
            "\rParameter combinations:  43%|████▎     | 54/125 [16:09<42:22, 35.81s/combo]"
          ]
        },
        {
          "output_type": "stream",
          "name": "stdout",
          "text": [
            "\n",
            "Combination 54/125:\n",
            "Parameters: n_estimators=100, learning_rate=0.01, max_depth=7\n",
            "Mean Accuracy: 0.8088\n",
            "Mean Recall (macro, all classes): 0.2877\n",
            "Mean Churn Recall (classes 1-4): 0.1218\n",
            "Mean F1 (macro, all classes): 0.2823\n",
            "Mean Churn F1 (classes 1-4): 0.1275\n",
            "--------------------------------------------------\n"
          ]
        },
        {
          "output_type": "stream",
          "name": "stderr",
          "text": [
            "\rParameter combinations:  44%|████▍     | 55/125 [17:11<51:05, 43.79s/combo]"
          ]
        },
        {
          "output_type": "stream",
          "name": "stdout",
          "text": [
            "\n",
            "Combination 55/125:\n",
            "Parameters: n_estimators=100, learning_rate=0.01, max_depth=10\n",
            "Mean Accuracy: 0.8023\n",
            "Mean Recall (macro, all classes): 0.2977\n",
            "Mean Churn Recall (classes 1-4): 0.1336\n",
            "Mean F1 (macro, all classes): 0.2972\n",
            "Mean Churn F1 (classes 1-4): 0.1447\n",
            "--------------------------------------------------\n"
          ]
        },
        {
          "output_type": "stream",
          "name": "stderr",
          "text": [
            "\rParameter combinations:  45%|████▍     | 56/125 [17:26<40:20, 35.09s/combo]"
          ]
        },
        {
          "output_type": "stream",
          "name": "stdout",
          "text": [
            "\n",
            "Combination 56/125:\n",
            "Parameters: n_estimators=100, learning_rate=0.05, max_depth=1\n",
            "Mean Accuracy: 0.8086\n",
            "Mean Recall (macro, all classes): 0.2684\n",
            "Mean Churn Recall (classes 1-4): 0.1017\n",
            "Mean F1 (macro, all classes): 0.2434\n",
            "Mean Churn F1 (classes 1-4): 0.0884\n",
            "--------------------------------------------------\n"
          ]
        },
        {
          "output_type": "stream",
          "name": "stderr",
          "text": [
            "\rParameter combinations:  46%|████▌     | 57/125 [17:54<37:11, 32.82s/combo]"
          ]
        },
        {
          "output_type": "stream",
          "name": "stdout",
          "text": [
            "\n",
            "Combination 57/125:\n",
            "Parameters: n_estimators=100, learning_rate=0.05, max_depth=3\n",
            "Mean Accuracy: 0.8076\n",
            "Mean Recall (macro, all classes): 0.2702\n",
            "Mean Churn Recall (classes 1-4): 0.1035\n",
            "Mean F1 (macro, all classes): 0.2520\n",
            "Mean Churn F1 (classes 1-4): 0.0970\n",
            "--------------------------------------------------\n"
          ]
        },
        {
          "output_type": "stream",
          "name": "stderr",
          "text": [
            "\rParameter combinations:  46%|████▋     | 58/125 [18:31<37:58, 34.01s/combo]"
          ]
        },
        {
          "output_type": "stream",
          "name": "stdout",
          "text": [
            "\n",
            "Combination 58/125:\n",
            "Parameters: n_estimators=100, learning_rate=0.05, max_depth=5\n",
            "Mean Accuracy: 0.8101\n",
            "Mean Recall (macro, all classes): 0.2826\n",
            "Mean Churn Recall (classes 1-4): 0.1162\n",
            "Mean F1 (macro, all classes): 0.2730\n",
            "Mean Churn F1 (classes 1-4): 0.1180\n",
            "--------------------------------------------------\n"
          ]
        },
        {
          "output_type": "stream",
          "name": "stderr",
          "text": [
            "\rParameter combinations:  47%|████▋     | 59/125 [19:18<41:51, 38.06s/combo]"
          ]
        },
        {
          "output_type": "stream",
          "name": "stdout",
          "text": [
            "\n",
            "Combination 59/125:\n",
            "Parameters: n_estimators=100, learning_rate=0.05, max_depth=7\n",
            "Mean Accuracy: 0.8082\n",
            "Mean Recall (macro, all classes): 0.2883\n",
            "Mean Churn Recall (classes 1-4): 0.1230\n",
            "Mean F1 (macro, all classes): 0.2784\n",
            "Mean Churn F1 (classes 1-4): 0.1240\n",
            "--------------------------------------------------\n"
          ]
        },
        {
          "output_type": "stream",
          "name": "stderr",
          "text": [
            "\rParameter combinations:  48%|████▊     | 60/125 [20:21<49:28, 45.66s/combo]"
          ]
        },
        {
          "output_type": "stream",
          "name": "stdout",
          "text": [
            "\n",
            "Combination 60/125:\n",
            "Parameters: n_estimators=100, learning_rate=0.05, max_depth=10\n",
            "Mean Accuracy: 0.8063\n",
            "Mean Recall (macro, all classes): 0.2984\n",
            "Mean Churn Recall (classes 1-4): 0.1341\n",
            "Mean F1 (macro, all classes): 0.2930\n",
            "Mean Churn F1 (classes 1-4): 0.1390\n",
            "--------------------------------------------------\n"
          ]
        },
        {
          "output_type": "stream",
          "name": "stderr",
          "text": [
            "\rParameter combinations:  49%|████▉     | 61/125 [20:36<38:41, 36.28s/combo]"
          ]
        },
        {
          "output_type": "stream",
          "name": "stdout",
          "text": [
            "\n",
            "Combination 61/125:\n",
            "Parameters: n_estimators=100, learning_rate=0.1, max_depth=1\n",
            "Mean Accuracy: 0.8086\n",
            "Mean Recall (macro, all classes): 0.2684\n",
            "Mean Churn Recall (classes 1-4): 0.1017\n",
            "Mean F1 (macro, all classes): 0.2434\n",
            "Mean Churn F1 (classes 1-4): 0.0884\n",
            "--------------------------------------------------\n"
          ]
        },
        {
          "output_type": "stream",
          "name": "stderr",
          "text": [
            "\rParameter combinations:  50%|████▉     | 62/125 [21:02<34:59, 33.32s/combo]"
          ]
        },
        {
          "output_type": "stream",
          "name": "stdout",
          "text": [
            "\n",
            "Combination 62/125:\n",
            "Parameters: n_estimators=100, learning_rate=0.1, max_depth=3\n",
            "Mean Accuracy: 0.8082\n",
            "Mean Recall (macro, all classes): 0.2745\n",
            "Mean Churn Recall (classes 1-4): 0.1078\n",
            "Mean F1 (macro, all classes): 0.2610\n",
            "Mean Churn F1 (classes 1-4): 0.1060\n",
            "--------------------------------------------------\n"
          ]
        },
        {
          "output_type": "stream",
          "name": "stderr",
          "text": [
            "\rParameter combinations:  50%|█████     | 63/125 [21:43<36:36, 35.42s/combo]"
          ]
        },
        {
          "output_type": "stream",
          "name": "stdout",
          "text": [
            "\n",
            "Combination 63/125:\n",
            "Parameters: n_estimators=100, learning_rate=0.1, max_depth=5\n",
            "Mean Accuracy: 0.8116\n",
            "Mean Recall (macro, all classes): 0.2904\n",
            "Mean Churn Recall (classes 1-4): 0.1244\n",
            "Mean F1 (macro, all classes): 0.2829\n",
            "Mean Churn F1 (classes 1-4): 0.1279\n",
            "--------------------------------------------------\n"
          ]
        },
        {
          "output_type": "stream",
          "name": "stderr",
          "text": [
            "\rParameter combinations:  51%|█████     | 64/125 [22:36<41:37, 40.94s/combo]"
          ]
        },
        {
          "output_type": "stream",
          "name": "stdout",
          "text": [
            "\n",
            "Combination 64/125:\n",
            "Parameters: n_estimators=100, learning_rate=0.1, max_depth=7\n",
            "Mean Accuracy: 0.8113\n",
            "Mean Recall (macro, all classes): 0.2966\n",
            "Mean Churn Recall (classes 1-4): 0.1314\n",
            "Mean F1 (macro, all classes): 0.2883\n",
            "Mean Churn F1 (classes 1-4): 0.1333\n",
            "--------------------------------------------------\n"
          ]
        },
        {
          "output_type": "stream",
          "name": "stderr",
          "text": [
            "\rParameter combinations:  52%|█████▏    | 65/125 [23:50<50:34, 50.58s/combo]"
          ]
        },
        {
          "output_type": "stream",
          "name": "stdout",
          "text": [
            "\n",
            "Combination 65/125:\n",
            "Parameters: n_estimators=100, learning_rate=0.1, max_depth=10\n",
            "Mean Accuracy: 0.8090\n",
            "Mean Recall (macro, all classes): 0.3003\n",
            "Mean Churn Recall (classes 1-4): 0.1352\n",
            "Mean F1 (macro, all classes): 0.2988\n",
            "Mean Churn F1 (classes 1-4): 0.1442\n",
            "--------------------------------------------------\n"
          ]
        },
        {
          "output_type": "stream",
          "name": "stderr",
          "text": [
            "\rParameter combinations:  53%|█████▎    | 66/125 [24:04<39:06, 39.76s/combo]"
          ]
        },
        {
          "output_type": "stream",
          "name": "stdout",
          "text": [
            "\n",
            "Combination 66/125:\n",
            "Parameters: n_estimators=100, learning_rate=0.3, max_depth=1\n",
            "Mean Accuracy: 0.8086\n",
            "Mean Recall (macro, all classes): 0.2684\n",
            "Mean Churn Recall (classes 1-4): 0.1017\n",
            "Mean F1 (macro, all classes): 0.2434\n",
            "Mean Churn F1 (classes 1-4): 0.0884\n",
            "--------------------------------------------------\n"
          ]
        },
        {
          "output_type": "stream",
          "name": "stderr",
          "text": [
            "\rParameter combinations:  54%|█████▎    | 67/125 [24:34<35:27, 36.68s/combo]"
          ]
        },
        {
          "output_type": "stream",
          "name": "stdout",
          "text": [
            "\n",
            "Combination 67/125:\n",
            "Parameters: n_estimators=100, learning_rate=0.3, max_depth=3\n",
            "Mean Accuracy: 0.8106\n",
            "Mean Recall (macro, all classes): 0.2882\n",
            "Mean Churn Recall (classes 1-4): 0.1218\n",
            "Mean F1 (macro, all classes): 0.2844\n",
            "Mean Churn F1 (classes 1-4): 0.1294\n",
            "--------------------------------------------------\n"
          ]
        },
        {
          "output_type": "stream",
          "name": "stderr",
          "text": [
            "\rParameter combinations:  54%|█████▍    | 68/125 [25:18<37:06, 39.06s/combo]"
          ]
        },
        {
          "output_type": "stream",
          "name": "stdout",
          "text": [
            "\n",
            "Combination 68/125:\n",
            "Parameters: n_estimators=100, learning_rate=0.3, max_depth=5\n",
            "Mean Accuracy: 0.8090\n",
            "Mean Recall (macro, all classes): 0.3007\n",
            "Mean Churn Recall (classes 1-4): 0.1361\n",
            "Mean F1 (macro, all classes): 0.2941\n",
            "Mean Churn F1 (classes 1-4): 0.1399\n",
            "--------------------------------------------------\n"
          ]
        },
        {
          "output_type": "stream",
          "name": "stderr",
          "text": [
            "\rParameter combinations:  55%|█████▌    | 69/125 [26:19<42:29, 45.53s/combo]"
          ]
        },
        {
          "output_type": "stream",
          "name": "stdout",
          "text": [
            "\n",
            "Combination 69/125:\n",
            "Parameters: n_estimators=100, learning_rate=0.3, max_depth=7\n",
            "Mean Accuracy: 0.8058\n",
            "Mean Recall (macro, all classes): 0.2996\n",
            "Mean Churn Recall (classes 1-4): 0.1353\n",
            "Mean F1 (macro, all classes): 0.2953\n",
            "Mean Churn F1 (classes 1-4): 0.1420\n",
            "--------------------------------------------------\n"
          ]
        },
        {
          "output_type": "stream",
          "name": "stderr",
          "text": [
            "\rParameter combinations:  56%|█████▌    | 70/125 [27:40<51:30, 56.20s/combo]"
          ]
        },
        {
          "output_type": "stream",
          "name": "stdout",
          "text": [
            "\n",
            "Combination 70/125:\n",
            "Parameters: n_estimators=100, learning_rate=0.3, max_depth=10\n",
            "Mean Accuracy: 0.8083\n",
            "Mean Recall (macro, all classes): 0.2940\n",
            "Mean Churn Recall (classes 1-4): 0.1286\n",
            "Mean F1 (macro, all classes): 0.2911\n",
            "Mean Churn F1 (classes 1-4): 0.1366\n",
            "--------------------------------------------------\n"
          ]
        },
        {
          "output_type": "stream",
          "name": "stderr",
          "text": [
            "\rParameter combinations:  57%|█████▋    | 71/125 [27:55<39:22, 43.76s/combo]"
          ]
        },
        {
          "output_type": "stream",
          "name": "stdout",
          "text": [
            "\n",
            "Combination 71/125:\n",
            "Parameters: n_estimators=100, learning_rate=0.5, max_depth=1\n",
            "Mean Accuracy: 0.8086\n",
            "Mean Recall (macro, all classes): 0.2684\n",
            "Mean Churn Recall (classes 1-4): 0.1017\n",
            "Mean F1 (macro, all classes): 0.2434\n",
            "Mean Churn F1 (classes 1-4): 0.0884\n",
            "--------------------------------------------------\n"
          ]
        },
        {
          "output_type": "stream",
          "name": "stderr",
          "text": [
            "\rParameter combinations:  58%|█████▊    | 72/125 [28:25<35:01, 39.65s/combo]"
          ]
        },
        {
          "output_type": "stream",
          "name": "stdout",
          "text": [
            "\n",
            "Combination 72/125:\n",
            "Parameters: n_estimators=100, learning_rate=0.5, max_depth=3\n",
            "Mean Accuracy: 0.8095\n",
            "Mean Recall (macro, all classes): 0.2896\n",
            "Mean Churn Recall (classes 1-4): 0.1237\n",
            "Mean F1 (macro, all classes): 0.2844\n",
            "Mean Churn F1 (classes 1-4): 0.1294\n",
            "--------------------------------------------------\n"
          ]
        },
        {
          "output_type": "stream",
          "name": "stderr",
          "text": [
            "\rParameter combinations:  58%|█████▊    | 73/125 [29:10<35:55, 41.44s/combo]"
          ]
        },
        {
          "output_type": "stream",
          "name": "stdout",
          "text": [
            "\n",
            "Combination 73/125:\n",
            "Parameters: n_estimators=100, learning_rate=0.5, max_depth=5\n",
            "Mean Accuracy: 0.8080\n",
            "Mean Recall (macro, all classes): 0.3107\n",
            "Mean Churn Recall (classes 1-4): 0.1469\n",
            "Mean F1 (macro, all classes): 0.3079\n",
            "Mean Churn F1 (classes 1-4): 0.1548\n",
            "--------------------------------------------------\n"
          ]
        },
        {
          "output_type": "stream",
          "name": "stderr",
          "text": [
            "\rParameter combinations:  59%|█████▉    | 74/125 [30:11<40:12, 47.30s/combo]"
          ]
        },
        {
          "output_type": "stream",
          "name": "stdout",
          "text": [
            "\n",
            "Combination 74/125:\n",
            "Parameters: n_estimators=100, learning_rate=0.5, max_depth=7\n",
            "Mean Accuracy: 0.8071\n",
            "Mean Recall (macro, all classes): 0.3045\n",
            "Mean Churn Recall (classes 1-4): 0.1401\n",
            "Mean F1 (macro, all classes): 0.3023\n",
            "Mean Churn F1 (classes 1-4): 0.1492\n",
            "--------------------------------------------------\n"
          ]
        },
        {
          "output_type": "stream",
          "name": "stderr",
          "text": [
            "\rParameter combinations:  60%|██████    | 75/125 [31:35<48:36, 58.33s/combo]"
          ]
        },
        {
          "output_type": "stream",
          "name": "stdout",
          "text": [
            "\n",
            "Combination 75/125:\n",
            "Parameters: n_estimators=100, learning_rate=0.5, max_depth=10\n",
            "Mean Accuracy: 0.8083\n",
            "Mean Recall (macro, all classes): 0.2924\n",
            "Mean Churn Recall (classes 1-4): 0.1270\n",
            "Mean F1 (macro, all classes): 0.2882\n",
            "Mean Churn F1 (classes 1-4): 0.1339\n",
            "--------------------------------------------------\n"
          ]
        },
        {
          "output_type": "stream",
          "name": "stderr",
          "text": [
            "\rParameter combinations:  61%|██████    | 76/125 [31:56<38:26, 47.06s/combo]"
          ]
        },
        {
          "output_type": "stream",
          "name": "stdout",
          "text": [
            "\n",
            "Combination 76/125:\n",
            "Parameters: n_estimators=150, learning_rate=0.01, max_depth=1\n",
            "Mean Accuracy: 0.8086\n",
            "Mean Recall (macro, all classes): 0.2684\n",
            "Mean Churn Recall (classes 1-4): 0.1017\n",
            "Mean F1 (macro, all classes): 0.2434\n",
            "Mean Churn F1 (classes 1-4): 0.0884\n",
            "--------------------------------------------------\n"
          ]
        },
        {
          "output_type": "stream",
          "name": "stderr",
          "text": [
            "\rParameter combinations:  62%|██████▏   | 77/125 [32:37<36:16, 45.35s/combo]"
          ]
        },
        {
          "output_type": "stream",
          "name": "stdout",
          "text": [
            "\n",
            "Combination 77/125:\n",
            "Parameters: n_estimators=150, learning_rate=0.01, max_depth=3\n",
            "Mean Accuracy: 0.8079\n",
            "Mean Recall (macro, all classes): 0.2676\n",
            "Mean Churn Recall (classes 1-4): 0.1009\n",
            "Mean F1 (macro, all classes): 0.2440\n",
            "Mean Churn F1 (classes 1-4): 0.0890\n",
            "--------------------------------------------------\n"
          ]
        },
        {
          "output_type": "stream",
          "name": "stderr",
          "text": [
            "\rParameter combinations:  62%|██████▏   | 78/125 [33:35<38:26, 49.08s/combo]"
          ]
        },
        {
          "output_type": "stream",
          "name": "stdout",
          "text": [
            "\n",
            "Combination 78/125:\n",
            "Parameters: n_estimators=150, learning_rate=0.01, max_depth=5\n",
            "Mean Accuracy: 0.8074\n",
            "Mean Recall (macro, all classes): 0.2750\n",
            "Mean Churn Recall (classes 1-4): 0.1084\n",
            "Mean F1 (macro, all classes): 0.2638\n",
            "Mean Churn F1 (classes 1-4): 0.1089\n",
            "--------------------------------------------------\n"
          ]
        },
        {
          "output_type": "stream",
          "name": "stderr",
          "text": [
            "\rParameter combinations:  63%|██████▎   | 79/125 [34:48<43:00, 56.09s/combo]"
          ]
        },
        {
          "output_type": "stream",
          "name": "stdout",
          "text": [
            "\n",
            "Combination 79/125:\n",
            "Parameters: n_estimators=150, learning_rate=0.01, max_depth=7\n",
            "Mean Accuracy: 0.8080\n",
            "Mean Recall (macro, all classes): 0.2834\n",
            "Mean Churn Recall (classes 1-4): 0.1176\n",
            "Mean F1 (macro, all classes): 0.2742\n",
            "Mean Churn F1 (classes 1-4): 0.1195\n",
            "--------------------------------------------------\n"
          ]
        },
        {
          "output_type": "stream",
          "name": "stderr",
          "text": [
            "\rParameter combinations:  64%|██████▍   | 80/125 [36:20<50:11, 66.92s/combo]"
          ]
        },
        {
          "output_type": "stream",
          "name": "stdout",
          "text": [
            "\n",
            "Combination 80/125:\n",
            "Parameters: n_estimators=150, learning_rate=0.01, max_depth=10\n",
            "Mean Accuracy: 0.8023\n",
            "Mean Recall (macro, all classes): 0.2967\n",
            "Mean Churn Recall (classes 1-4): 0.1326\n",
            "Mean F1 (macro, all classes): 0.2942\n",
            "Mean Churn F1 (classes 1-4): 0.1414\n",
            "--------------------------------------------------\n"
          ]
        },
        {
          "output_type": "stream",
          "name": "stderr",
          "text": [
            "\rParameter combinations:  65%|██████▍   | 81/125 [36:41<38:55, 53.09s/combo]"
          ]
        },
        {
          "output_type": "stream",
          "name": "stdout",
          "text": [
            "\n",
            "Combination 81/125:\n",
            "Parameters: n_estimators=150, learning_rate=0.05, max_depth=1\n",
            "Mean Accuracy: 0.8086\n",
            "Mean Recall (macro, all classes): 0.2684\n",
            "Mean Churn Recall (classes 1-4): 0.1017\n",
            "Mean F1 (macro, all classes): 0.2434\n",
            "Mean Churn F1 (classes 1-4): 0.0884\n",
            "--------------------------------------------------\n"
          ]
        },
        {
          "output_type": "stream",
          "name": "stderr",
          "text": [
            "\rParameter combinations:  66%|██████▌   | 82/125 [37:21<35:23, 49.39s/combo]"
          ]
        },
        {
          "output_type": "stream",
          "name": "stdout",
          "text": [
            "\n",
            "Combination 82/125:\n",
            "Parameters: n_estimators=150, learning_rate=0.05, max_depth=3\n",
            "Mean Accuracy: 0.8081\n",
            "Mean Recall (macro, all classes): 0.2719\n",
            "Mean Churn Recall (classes 1-4): 0.1053\n",
            "Mean F1 (macro, all classes): 0.2551\n",
            "Mean Churn F1 (classes 1-4): 0.1001\n",
            "--------------------------------------------------\n"
          ]
        },
        {
          "output_type": "stream",
          "name": "stderr",
          "text": [
            "\rParameter combinations:  66%|██████▋   | 83/125 [38:19<36:16, 51.81s/combo]"
          ]
        },
        {
          "output_type": "stream",
          "name": "stdout",
          "text": [
            "\n",
            "Combination 83/125:\n",
            "Parameters: n_estimators=150, learning_rate=0.05, max_depth=5\n",
            "Mean Accuracy: 0.8113\n",
            "Mean Recall (macro, all classes): 0.2864\n",
            "Mean Churn Recall (classes 1-4): 0.1201\n",
            "Mean F1 (macro, all classes): 0.2787\n",
            "Mean Churn F1 (classes 1-4): 0.1237\n",
            "--------------------------------------------------\n"
          ]
        },
        {
          "output_type": "stream",
          "name": "stderr",
          "text": [
            "\rParameter combinations:  67%|██████▋   | 84/125 [39:33<40:04, 58.65s/combo]"
          ]
        },
        {
          "output_type": "stream",
          "name": "stdout",
          "text": [
            "\n",
            "Combination 84/125:\n",
            "Parameters: n_estimators=150, learning_rate=0.05, max_depth=7\n",
            "Mean Accuracy: 0.8080\n",
            "Mean Recall (macro, all classes): 0.2895\n",
            "Mean Churn Recall (classes 1-4): 0.1243\n",
            "Mean F1 (macro, all classes): 0.2806\n",
            "Mean Churn F1 (classes 1-4): 0.1259\n",
            "--------------------------------------------------\n"
          ]
        },
        {
          "output_type": "stream",
          "name": "stderr",
          "text": [
            "\rParameter combinations:  68%|██████▊   | 85/125 [41:17<48:07, 72.18s/combo]"
          ]
        },
        {
          "output_type": "stream",
          "name": "stdout",
          "text": [
            "\n",
            "Combination 85/125:\n",
            "Parameters: n_estimators=150, learning_rate=0.05, max_depth=10\n",
            "Mean Accuracy: 0.8103\n",
            "Mean Recall (macro, all classes): 0.3036\n",
            "Mean Churn Recall (classes 1-4): 0.1384\n",
            "Mean F1 (macro, all classes): 0.3030\n",
            "Mean Churn F1 (classes 1-4): 0.1482\n",
            "--------------------------------------------------\n"
          ]
        },
        {
          "output_type": "stream",
          "name": "stderr",
          "text": [
            "\rParameter combinations:  69%|██████▉   | 86/125 [41:38<36:55, 56.80s/combo]"
          ]
        },
        {
          "output_type": "stream",
          "name": "stdout",
          "text": [
            "\n",
            "Combination 86/125:\n",
            "Parameters: n_estimators=150, learning_rate=0.1, max_depth=1\n",
            "Mean Accuracy: 0.8086\n",
            "Mean Recall (macro, all classes): 0.2684\n",
            "Mean Churn Recall (classes 1-4): 0.1017\n",
            "Mean F1 (macro, all classes): 0.2434\n",
            "Mean Churn F1 (classes 1-4): 0.0884\n",
            "--------------------------------------------------\n"
          ]
        },
        {
          "output_type": "stream",
          "name": "stderr",
          "text": [
            "\rParameter combinations:  70%|██████▉   | 87/125 [42:21<33:17, 52.57s/combo]"
          ]
        },
        {
          "output_type": "stream",
          "name": "stdout",
          "text": [
            "\n",
            "Combination 87/125:\n",
            "Parameters: n_estimators=150, learning_rate=0.1, max_depth=3\n",
            "Mean Accuracy: 0.8092\n",
            "Mean Recall (macro, all classes): 0.2769\n",
            "Mean Churn Recall (classes 1-4): 0.1103\n",
            "Mean F1 (macro, all classes): 0.2639\n",
            "Mean Churn F1 (classes 1-4): 0.1089\n",
            "--------------------------------------------------\n"
          ]
        },
        {
          "output_type": "stream",
          "name": "stderr",
          "text": [
            "\rParameter combinations:  70%|███████   | 88/125 [43:23<34:13, 55.50s/combo]"
          ]
        },
        {
          "output_type": "stream",
          "name": "stdout",
          "text": [
            "\n",
            "Combination 88/125:\n",
            "Parameters: n_estimators=150, learning_rate=0.1, max_depth=5\n",
            "Mean Accuracy: 0.8131\n",
            "Mean Recall (macro, all classes): 0.2974\n",
            "Mean Churn Recall (classes 1-4): 0.1317\n",
            "Mean F1 (macro, all classes): 0.2918\n",
            "Mean Churn F1 (classes 1-4): 0.1369\n",
            "--------------------------------------------------\n"
          ]
        },
        {
          "output_type": "stream",
          "name": "stderr",
          "text": [
            "\rParameter combinations:  71%|███████   | 89/125 [44:48<38:39, 64.43s/combo]"
          ]
        },
        {
          "output_type": "stream",
          "name": "stdout",
          "text": [
            "\n",
            "Combination 89/125:\n",
            "Parameters: n_estimators=150, learning_rate=0.1, max_depth=7\n",
            "Mean Accuracy: 0.8112\n",
            "Mean Recall (macro, all classes): 0.2972\n",
            "Mean Churn Recall (classes 1-4): 0.1320\n",
            "Mean F1 (macro, all classes): 0.2886\n",
            "Mean Churn F1 (classes 1-4): 0.1336\n",
            "--------------------------------------------------\n"
          ]
        },
        {
          "output_type": "stream",
          "name": "stderr",
          "text": [
            "\rParameter combinations:  72%|███████▏  | 90/125 [46:45<46:37, 79.93s/combo]"
          ]
        },
        {
          "output_type": "stream",
          "name": "stdout",
          "text": [
            "\n",
            "Combination 90/125:\n",
            "Parameters: n_estimators=150, learning_rate=0.1, max_depth=10\n",
            "Mean Accuracy: 0.8076\n",
            "Mean Recall (macro, all classes): 0.2937\n",
            "Mean Churn Recall (classes 1-4): 0.1285\n",
            "Mean F1 (macro, all classes): 0.2907\n",
            "Mean Churn F1 (classes 1-4): 0.1363\n",
            "--------------------------------------------------\n"
          ]
        },
        {
          "output_type": "stream",
          "name": "stderr",
          "text": [
            "\rParameter combinations:  73%|███████▎  | 91/125 [47:05<35:15, 62.23s/combo]"
          ]
        },
        {
          "output_type": "stream",
          "name": "stdout",
          "text": [
            "\n",
            "Combination 91/125:\n",
            "Parameters: n_estimators=150, learning_rate=0.3, max_depth=1\n",
            "Mean Accuracy: 0.8086\n",
            "Mean Recall (macro, all classes): 0.2684\n",
            "Mean Churn Recall (classes 1-4): 0.1017\n",
            "Mean F1 (macro, all classes): 0.2434\n",
            "Mean Churn F1 (classes 1-4): 0.0884\n",
            "--------------------------------------------------\n"
          ]
        },
        {
          "output_type": "stream",
          "name": "stderr",
          "text": [
            "\rParameter combinations:  74%|███████▎  | 92/125 [47:50<31:19, 56.96s/combo]"
          ]
        },
        {
          "output_type": "stream",
          "name": "stdout",
          "text": [
            "\n",
            "Combination 92/125:\n",
            "Parameters: n_estimators=150, learning_rate=0.3, max_depth=3\n",
            "Mean Accuracy: 0.8110\n",
            "Mean Recall (macro, all classes): 0.2903\n",
            "Mean Churn Recall (classes 1-4): 0.1241\n",
            "Mean F1 (macro, all classes): 0.2866\n",
            "Mean Churn F1 (classes 1-4): 0.1315\n",
            "--------------------------------------------------\n"
          ]
        },
        {
          "output_type": "stream",
          "name": "stderr",
          "text": [
            "\rParameter combinations:  74%|███████▍  | 93/125 [48:59<32:13, 60.44s/combo]"
          ]
        },
        {
          "output_type": "stream",
          "name": "stdout",
          "text": [
            "\n",
            "Combination 93/125:\n",
            "Parameters: n_estimators=150, learning_rate=0.3, max_depth=5\n",
            "Mean Accuracy: 0.8092\n",
            "Mean Recall (macro, all classes): 0.3042\n",
            "Mean Churn Recall (classes 1-4): 0.1399\n",
            "Mean F1 (macro, all classes): 0.2996\n",
            "Mean Churn F1 (classes 1-4): 0.1458\n",
            "--------------------------------------------------\n"
          ]
        },
        {
          "output_type": "stream",
          "name": "stderr",
          "text": [
            "\rParameter combinations:  75%|███████▌  | 94/125 [50:30<35:59, 69.66s/combo]"
          ]
        },
        {
          "output_type": "stream",
          "name": "stdout",
          "text": [
            "\n",
            "Combination 94/125:\n",
            "Parameters: n_estimators=150, learning_rate=0.3, max_depth=7\n",
            "Mean Accuracy: 0.8096\n",
            "Mean Recall (macro, all classes): 0.3031\n",
            "Mean Churn Recall (classes 1-4): 0.1385\n",
            "Mean F1 (macro, all classes): 0.2991\n",
            "Mean Churn F1 (classes 1-4): 0.1454\n",
            "--------------------------------------------------\n"
          ]
        },
        {
          "output_type": "stream",
          "name": "stderr",
          "text": [
            "\rParameter combinations:  76%|███████▌  | 95/125 [52:33<42:48, 85.60s/combo]"
          ]
        },
        {
          "output_type": "stream",
          "name": "stdout",
          "text": [
            "\n",
            "Combination 95/125:\n",
            "Parameters: n_estimators=150, learning_rate=0.3, max_depth=10\n",
            "Mean Accuracy: 0.8054\n",
            "Mean Recall (macro, all classes): 0.2867\n",
            "Mean Churn Recall (classes 1-4): 0.1216\n",
            "Mean F1 (macro, all classes): 0.2795\n",
            "Mean Churn F1 (classes 1-4): 0.1252\n",
            "--------------------------------------------------\n"
          ]
        },
        {
          "output_type": "stream",
          "name": "stderr",
          "text": [
            "\rParameter combinations:  77%|███████▋  | 96/125 [52:53<31:58, 66.15s/combo]"
          ]
        },
        {
          "output_type": "stream",
          "name": "stdout",
          "text": [
            "\n",
            "Combination 96/125:\n",
            "Parameters: n_estimators=150, learning_rate=0.5, max_depth=1\n",
            "Mean Accuracy: 0.8086\n",
            "Mean Recall (macro, all classes): 0.2684\n",
            "Mean Churn Recall (classes 1-4): 0.1017\n",
            "Mean F1 (macro, all classes): 0.2434\n",
            "Mean Churn F1 (classes 1-4): 0.0884\n",
            "--------------------------------------------------\n"
          ]
        },
        {
          "output_type": "stream",
          "name": "stderr",
          "text": [
            "\rParameter combinations:  78%|███████▊  | 97/125 [53:39<27:57, 59.89s/combo]"
          ]
        },
        {
          "output_type": "stream",
          "name": "stdout",
          "text": [
            "\n",
            "Combination 97/125:\n",
            "Parameters: n_estimators=150, learning_rate=0.5, max_depth=3\n",
            "Mean Accuracy: 0.8105\n",
            "Mean Recall (macro, all classes): 0.2961\n",
            "Mean Churn Recall (classes 1-4): 0.1306\n",
            "Mean F1 (macro, all classes): 0.2930\n",
            "Mean Churn F1 (classes 1-4): 0.1382\n",
            "--------------------------------------------------\n"
          ]
        },
        {
          "output_type": "stream",
          "name": "stderr",
          "text": [
            "\rParameter combinations:  78%|███████▊  | 98/125 [54:55<29:09, 64.80s/combo]"
          ]
        },
        {
          "output_type": "stream",
          "name": "stdout",
          "text": [
            "\n",
            "Combination 98/125:\n",
            "Parameters: n_estimators=150, learning_rate=0.5, max_depth=5\n",
            "Mean Accuracy: 0.8041\n",
            "Mean Recall (macro, all classes): 0.3091\n",
            "Mean Churn Recall (classes 1-4): 0.1457\n",
            "Mean F1 (macro, all classes): 0.3084\n",
            "Mean Churn F1 (classes 1-4): 0.1560\n",
            "--------------------------------------------------\n"
          ]
        },
        {
          "output_type": "stream",
          "name": "stderr",
          "text": [
            "\rParameter combinations:  79%|███████▉  | 99/125 [56:52<34:55, 80.61s/combo]"
          ]
        },
        {
          "output_type": "stream",
          "name": "stdout",
          "text": [
            "\n",
            "Combination 99/125:\n",
            "Parameters: n_estimators=150, learning_rate=0.5, max_depth=7\n",
            "Mean Accuracy: 0.8042\n",
            "Mean Recall (macro, all classes): 0.2946\n",
            "Mean Churn Recall (classes 1-4): 0.1303\n",
            "Mean F1 (macro, all classes): 0.2903\n",
            "Mean Churn F1 (classes 1-4): 0.1376\n",
            "--------------------------------------------------\n"
          ]
        },
        {
          "output_type": "stream",
          "name": "stderr",
          "text": [
            "\rParameter combinations:  80%|████████  | 100/125 [59:05<40:06, 96.27s/combo]"
          ]
        },
        {
          "output_type": "stream",
          "name": "stdout",
          "text": [
            "\n",
            "Combination 100/125:\n",
            "Parameters: n_estimators=150, learning_rate=0.5, max_depth=10\n",
            "Mean Accuracy: 0.8081\n",
            "Mean Recall (macro, all classes): 0.2891\n",
            "Mean Churn Recall (classes 1-4): 0.1236\n",
            "Mean F1 (macro, all classes): 0.2822\n",
            "Mean Churn F1 (classes 1-4): 0.1277\n",
            "--------------------------------------------------\n"
          ]
        },
        {
          "output_type": "stream",
          "name": "stderr",
          "text": [
            "\rParameter combinations:  81%|████████  | 101/125 [59:34<30:25, 76.05s/combo]"
          ]
        },
        {
          "output_type": "stream",
          "name": "stdout",
          "text": [
            "\n",
            "Combination 101/125:\n",
            "Parameters: n_estimators=200, learning_rate=0.01, max_depth=1\n",
            "Mean Accuracy: 0.8086\n",
            "Mean Recall (macro, all classes): 0.2684\n",
            "Mean Churn Recall (classes 1-4): 0.1017\n",
            "Mean F1 (macro, all classes): 0.2434\n",
            "Mean Churn F1 (classes 1-4): 0.0884\n",
            "--------------------------------------------------\n"
          ]
        },
        {
          "output_type": "stream",
          "name": "stderr",
          "text": [
            "\rParameter combinations:  82%|████████▏ | 102/125 [1:00:29<26:41, 69.62s/combo]"
          ]
        },
        {
          "output_type": "stream",
          "name": "stdout",
          "text": [
            "\n",
            "Combination 102/125:\n",
            "Parameters: n_estimators=200, learning_rate=0.01, max_depth=3\n",
            "Mean Accuracy: 0.8076\n",
            "Mean Recall (macro, all classes): 0.2677\n",
            "Mean Churn Recall (classes 1-4): 0.1011\n",
            "Mean F1 (macro, all classes): 0.2452\n",
            "Mean Churn F1 (classes 1-4): 0.0903\n",
            "--------------------------------------------------\n"
          ]
        },
        {
          "output_type": "stream",
          "name": "stderr",
          "text": [
            "\rParameter combinations:  82%|████████▏ | 103/125 [1:01:44<26:10, 71.40s/combo]"
          ]
        },
        {
          "output_type": "stream",
          "name": "stdout",
          "text": [
            "\n",
            "Combination 103/125:\n",
            "Parameters: n_estimators=200, learning_rate=0.01, max_depth=5\n",
            "Mean Accuracy: 0.8083\n",
            "Mean Recall (macro, all classes): 0.2777\n",
            "Mean Churn Recall (classes 1-4): 0.1112\n",
            "Mean F1 (macro, all classes): 0.2682\n",
            "Mean Churn F1 (classes 1-4): 0.1133\n",
            "--------------------------------------------------\n"
          ]
        },
        {
          "output_type": "stream",
          "name": "stderr",
          "text": [
            "\rParameter combinations:  83%|████████▎ | 104/125 [1:03:19<27:24, 78.30s/combo]"
          ]
        },
        {
          "output_type": "stream",
          "name": "stdout",
          "text": [
            "\n",
            "Combination 104/125:\n",
            "Parameters: n_estimators=200, learning_rate=0.01, max_depth=7\n",
            "Mean Accuracy: 0.8080\n",
            "Mean Recall (macro, all classes): 0.2831\n",
            "Mean Churn Recall (classes 1-4): 0.1173\n",
            "Mean F1 (macro, all classes): 0.2731\n",
            "Mean Churn F1 (classes 1-4): 0.1182\n",
            "--------------------------------------------------\n"
          ]
        },
        {
          "output_type": "stream",
          "name": "stderr",
          "text": [
            "\rParameter combinations:  84%|████████▍ | 105/125 [1:05:22<30:37, 91.87s/combo]"
          ]
        },
        {
          "output_type": "stream",
          "name": "stdout",
          "text": [
            "\n",
            "Combination 105/125:\n",
            "Parameters: n_estimators=200, learning_rate=0.01, max_depth=10\n",
            "Mean Accuracy: 0.8024\n",
            "Mean Recall (macro, all classes): 0.2979\n",
            "Mean Churn Recall (classes 1-4): 0.1340\n",
            "Mean F1 (macro, all classes): 0.2941\n",
            "Mean Churn F1 (classes 1-4): 0.1416\n",
            "--------------------------------------------------\n"
          ]
        },
        {
          "output_type": "stream",
          "name": "stderr",
          "text": [
            "\rParameter combinations:  85%|████████▍ | 106/125 [1:05:50<23:01, 72.71s/combo]"
          ]
        },
        {
          "output_type": "stream",
          "name": "stdout",
          "text": [
            "\n",
            "Combination 106/125:\n",
            "Parameters: n_estimators=200, learning_rate=0.05, max_depth=1\n",
            "Mean Accuracy: 0.8086\n",
            "Mean Recall (macro, all classes): 0.2684\n",
            "Mean Churn Recall (classes 1-4): 0.1017\n",
            "Mean F1 (macro, all classes): 0.2434\n",
            "Mean Churn F1 (classes 1-4): 0.0884\n",
            "--------------------------------------------------\n"
          ]
        },
        {
          "output_type": "stream",
          "name": "stderr",
          "text": [
            "\rParameter combinations:  86%|████████▌ | 107/125 [1:06:44<20:08, 67.14s/combo]"
          ]
        },
        {
          "output_type": "stream",
          "name": "stdout",
          "text": [
            "\n",
            "Combination 107/125:\n",
            "Parameters: n_estimators=200, learning_rate=0.05, max_depth=3\n",
            "Mean Accuracy: 0.8074\n",
            "Mean Recall (macro, all classes): 0.2713\n",
            "Mean Churn Recall (classes 1-4): 0.1047\n",
            "Mean F1 (macro, all classes): 0.2556\n",
            "Mean Churn F1 (classes 1-4): 0.1006\n",
            "--------------------------------------------------\n"
          ]
        },
        {
          "output_type": "stream",
          "name": "stderr",
          "text": [
            "\rParameter combinations:  86%|████████▋ | 108/125 [1:08:03<19:57, 70.43s/combo]"
          ]
        },
        {
          "output_type": "stream",
          "name": "stdout",
          "text": [
            "\n",
            "Combination 108/125:\n",
            "Parameters: n_estimators=200, learning_rate=0.05, max_depth=5\n",
            "Mean Accuracy: 0.8116\n",
            "Mean Recall (macro, all classes): 0.2892\n",
            "Mean Churn Recall (classes 1-4): 0.1231\n",
            "Mean F1 (macro, all classes): 0.2808\n",
            "Mean Churn F1 (classes 1-4): 0.1260\n",
            "--------------------------------------------------\n"
          ]
        },
        {
          "output_type": "stream",
          "name": "stderr",
          "text": [
            "\rParameter combinations:  87%|████████▋ | 109/125 [1:09:49<21:37, 81.11s/combo]"
          ]
        },
        {
          "output_type": "stream",
          "name": "stdout",
          "text": [
            "\n",
            "Combination 109/125:\n",
            "Parameters: n_estimators=200, learning_rate=0.05, max_depth=7\n",
            "Mean Accuracy: 0.8106\n",
            "Mean Recall (macro, all classes): 0.2932\n",
            "Mean Churn Recall (classes 1-4): 0.1280\n",
            "Mean F1 (macro, all classes): 0.2834\n",
            "Mean Churn F1 (classes 1-4): 0.1285\n",
            "--------------------------------------------------\n"
          ]
        },
        {
          "output_type": "stream",
          "name": "stderr",
          "text": [
            "\rParameter combinations:  88%|████████▊ | 110/125 [1:12:15<25:09, 100.62s/combo]"
          ]
        },
        {
          "output_type": "stream",
          "name": "stdout",
          "text": [
            "\n",
            "Combination 110/125:\n",
            "Parameters: n_estimators=200, learning_rate=0.05, max_depth=10\n",
            "Mean Accuracy: 0.8073\n",
            "Mean Recall (macro, all classes): 0.2992\n",
            "Mean Churn Recall (classes 1-4): 0.1342\n",
            "Mean F1 (macro, all classes): 0.2986\n",
            "Mean Churn F1 (classes 1-4): 0.1443\n",
            "--------------------------------------------------\n"
          ]
        },
        {
          "output_type": "stream",
          "name": "stderr",
          "text": [
            "\rParameter combinations:  89%|████████▉ | 111/125 [1:12:44<18:28, 79.18s/combo] "
          ]
        },
        {
          "output_type": "stream",
          "name": "stdout",
          "text": [
            "\n",
            "Combination 111/125:\n",
            "Parameters: n_estimators=200, learning_rate=0.1, max_depth=1\n",
            "Mean Accuracy: 0.8086\n",
            "Mean Recall (macro, all classes): 0.2684\n",
            "Mean Churn Recall (classes 1-4): 0.1017\n",
            "Mean F1 (macro, all classes): 0.2434\n",
            "Mean Churn F1 (classes 1-4): 0.0884\n",
            "--------------------------------------------------\n"
          ]
        },
        {
          "output_type": "stream",
          "name": "stderr",
          "text": [
            "\rParameter combinations:  90%|████████▉ | 112/125 [1:13:42<15:45, 72.76s/combo]"
          ]
        },
        {
          "output_type": "stream",
          "name": "stdout",
          "text": [
            "\n",
            "Combination 112/125:\n",
            "Parameters: n_estimators=200, learning_rate=0.1, max_depth=3\n",
            "Mean Accuracy: 0.8105\n",
            "Mean Recall (macro, all classes): 0.2808\n",
            "Mean Churn Recall (classes 1-4): 0.1142\n",
            "Mean F1 (macro, all classes): 0.2698\n",
            "Mean Churn F1 (classes 1-4): 0.1147\n",
            "--------------------------------------------------\n"
          ]
        },
        {
          "output_type": "stream",
          "name": "stderr",
          "text": [
            "\rParameter combinations:  90%|█████████ | 113/125 [1:15:08<15:21, 76.80s/combo]"
          ]
        },
        {
          "output_type": "stream",
          "name": "stdout",
          "text": [
            "\n",
            "Combination 113/125:\n",
            "Parameters: n_estimators=200, learning_rate=0.1, max_depth=5\n",
            "Mean Accuracy: 0.8114\n",
            "Mean Recall (macro, all classes): 0.2944\n",
            "Mean Churn Recall (classes 1-4): 0.1289\n",
            "Mean F1 (macro, all classes): 0.2866\n",
            "Mean Churn F1 (classes 1-4): 0.1319\n",
            "--------------------------------------------------\n"
          ]
        },
        {
          "output_type": "stream",
          "name": "stderr",
          "text": [
            "\rParameter combinations:  91%|█████████ | 114/125 [1:17:03<16:12, 88.37s/combo]"
          ]
        },
        {
          "output_type": "stream",
          "name": "stdout",
          "text": [
            "\n",
            "Combination 114/125:\n",
            "Parameters: n_estimators=200, learning_rate=0.1, max_depth=7\n",
            "Mean Accuracy: 0.8100\n",
            "Mean Recall (macro, all classes): 0.2969\n",
            "Mean Churn Recall (classes 1-4): 0.1318\n",
            "Mean F1 (macro, all classes): 0.2893\n",
            "Mean Churn F1 (classes 1-4): 0.1345\n",
            "--------------------------------------------------\n"
          ]
        },
        {
          "output_type": "stream",
          "name": "stderr",
          "text": [
            "\rParameter combinations:  92%|█████████▏| 115/125 [1:19:41<18:13, 109.31s/combo]"
          ]
        },
        {
          "output_type": "stream",
          "name": "stdout",
          "text": [
            "\n",
            "Combination 115/125:\n",
            "Parameters: n_estimators=200, learning_rate=0.1, max_depth=10\n",
            "Mean Accuracy: 0.8083\n",
            "Mean Recall (macro, all classes): 0.2958\n",
            "Mean Churn Recall (classes 1-4): 0.1306\n",
            "Mean F1 (macro, all classes): 0.2923\n",
            "Mean Churn F1 (classes 1-4): 0.1378\n",
            "--------------------------------------------------\n"
          ]
        },
        {
          "output_type": "stream",
          "name": "stderr",
          "text": [
            "\rParameter combinations:  93%|█████████▎| 116/125 [1:20:10<12:47, 85.25s/combo] "
          ]
        },
        {
          "output_type": "stream",
          "name": "stdout",
          "text": [
            "\n",
            "Combination 116/125:\n",
            "Parameters: n_estimators=200, learning_rate=0.3, max_depth=1\n",
            "Mean Accuracy: 0.8086\n",
            "Mean Recall (macro, all classes): 0.2684\n",
            "Mean Churn Recall (classes 1-4): 0.1017\n",
            "Mean F1 (macro, all classes): 0.2434\n",
            "Mean Churn F1 (classes 1-4): 0.0884\n",
            "--------------------------------------------------\n"
          ]
        },
        {
          "output_type": "stream",
          "name": "stderr",
          "text": [
            "\rParameter combinations:  94%|█████████▎| 117/125 [1:21:11<10:21, 77.68s/combo]"
          ]
        },
        {
          "output_type": "stream",
          "name": "stdout",
          "text": [
            "\n",
            "Combination 117/125:\n",
            "Parameters: n_estimators=200, learning_rate=0.3, max_depth=3\n",
            "Mean Accuracy: 0.8118\n",
            "Mean Recall (macro, all classes): 0.2925\n",
            "Mean Churn Recall (classes 1-4): 0.1265\n",
            "Mean F1 (macro, all classes): 0.2881\n",
            "Mean Churn F1 (classes 1-4): 0.1330\n",
            "--------------------------------------------------\n"
          ]
        },
        {
          "output_type": "stream",
          "name": "stderr",
          "text": [
            "\rParameter combinations:  94%|█████████▍| 118/125 [1:22:42<09:31, 81.70s/combo]"
          ]
        },
        {
          "output_type": "stream",
          "name": "stdout",
          "text": [
            "\n",
            "Combination 118/125:\n",
            "Parameters: n_estimators=200, learning_rate=0.3, max_depth=5\n",
            "Mean Accuracy: 0.8088\n",
            "Mean Recall (macro, all classes): 0.3062\n",
            "Mean Churn Recall (classes 1-4): 0.1421\n",
            "Mean F1 (macro, all classes): 0.3012\n",
            "Mean Churn F1 (classes 1-4): 0.1475\n",
            "--------------------------------------------------\n"
          ]
        },
        {
          "output_type": "stream",
          "name": "stderr",
          "text": [
            "\rParameter combinations:  95%|█████████▌| 119/125 [1:24:44<09:23, 93.85s/combo]"
          ]
        },
        {
          "output_type": "stream",
          "name": "stdout",
          "text": [
            "\n",
            "Combination 119/125:\n",
            "Parameters: n_estimators=200, learning_rate=0.3, max_depth=7\n",
            "Mean Accuracy: 0.8083\n",
            "Mean Recall (macro, all classes): 0.2971\n",
            "Mean Churn Recall (classes 1-4): 0.1324\n",
            "Mean F1 (macro, all classes): 0.2908\n",
            "Mean Churn F1 (classes 1-4): 0.1369\n",
            "--------------------------------------------------\n"
          ]
        },
        {
          "output_type": "stream",
          "name": "stderr",
          "text": [
            "\rParameter combinations:  96%|█████████▌| 120/125 [1:27:30<09:37, 115.54s/combo]"
          ]
        },
        {
          "output_type": "stream",
          "name": "stdout",
          "text": [
            "\n",
            "Combination 120/125:\n",
            "Parameters: n_estimators=200, learning_rate=0.3, max_depth=10\n",
            "Mean Accuracy: 0.8061\n",
            "Mean Recall (macro, all classes): 0.2851\n",
            "Mean Churn Recall (classes 1-4): 0.1197\n",
            "Mean F1 (macro, all classes): 0.2776\n",
            "Mean Churn F1 (classes 1-4): 0.1231\n",
            "--------------------------------------------------\n"
          ]
        },
        {
          "output_type": "stream",
          "name": "stderr",
          "text": [
            "\rParameter combinations:  97%|█████████▋| 121/125 [1:27:59<05:58, 89.57s/combo] "
          ]
        },
        {
          "output_type": "stream",
          "name": "stdout",
          "text": [
            "\n",
            "Combination 121/125:\n",
            "Parameters: n_estimators=200, learning_rate=0.5, max_depth=1\n",
            "Mean Accuracy: 0.8086\n",
            "Mean Recall (macro, all classes): 0.2684\n",
            "Mean Churn Recall (classes 1-4): 0.1017\n",
            "Mean F1 (macro, all classes): 0.2434\n",
            "Mean Churn F1 (classes 1-4): 0.0884\n",
            "--------------------------------------------------\n"
          ]
        },
        {
          "output_type": "stream",
          "name": "stderr",
          "text": [
            "\rParameter combinations:  98%|█████████▊| 122/125 [1:28:59<04:02, 80.81s/combo]"
          ]
        },
        {
          "output_type": "stream",
          "name": "stdout",
          "text": [
            "\n",
            "Combination 122/125:\n",
            "Parameters: n_estimators=200, learning_rate=0.5, max_depth=3\n",
            "Mean Accuracy: 0.8097\n",
            "Mean Recall (macro, all classes): 0.3019\n",
            "Mean Churn Recall (classes 1-4): 0.1368\n",
            "Mean F1 (macro, all classes): 0.3004\n",
            "Mean Churn F1 (classes 1-4): 0.1460\n",
            "--------------------------------------------------\n"
          ]
        },
        {
          "output_type": "stream",
          "name": "stderr",
          "text": [
            "\rParameter combinations:  98%|█████████▊| 123/125 [1:30:31<02:48, 84.01s/combo]"
          ]
        },
        {
          "output_type": "stream",
          "name": "stdout",
          "text": [
            "\n",
            "Combination 123/125:\n",
            "Parameters: n_estimators=200, learning_rate=0.5, max_depth=5\n",
            "Mean Accuracy: 0.8018\n",
            "Mean Recall (macro, all classes): 0.3049\n",
            "Mean Churn Recall (classes 1-4): 0.1421\n",
            "Mean F1 (macro, all classes): 0.3011\n",
            "Mean Churn F1 (classes 1-4): 0.1499\n",
            "--------------------------------------------------\n"
          ]
        },
        {
          "output_type": "stream",
          "name": "stderr",
          "text": [
            "\rParameter combinations:  99%|█████████▉| 124/125 [1:32:35<01:36, 96.03s/combo]"
          ]
        },
        {
          "output_type": "stream",
          "name": "stdout",
          "text": [
            "\n",
            "Combination 124/125:\n",
            "Parameters: n_estimators=200, learning_rate=0.5, max_depth=7\n",
            "Mean Accuracy: 0.8076\n",
            "Mean Recall (macro, all classes): 0.2982\n",
            "Mean Churn Recall (classes 1-4): 0.1336\n",
            "Mean F1 (macro, all classes): 0.2937\n",
            "Mean Churn F1 (classes 1-4): 0.1402\n",
            "--------------------------------------------------\n"
          ]
        },
        {
          "output_type": "stream",
          "name": "stderr",
          "text": [
            "Parameter combinations: 100%|██████████| 125/125 [1:35:21<00:00, 45.78s/combo] "
          ]
        },
        {
          "output_type": "stream",
          "name": "stdout",
          "text": [
            "\n",
            "Combination 125/125:\n",
            "Parameters: n_estimators=200, learning_rate=0.5, max_depth=10\n",
            "Mean Accuracy: 0.8086\n",
            "Mean Recall (macro, all classes): 0.2900\n",
            "Mean Churn Recall (classes 1-4): 0.1245\n",
            "Mean F1 (macro, all classes): 0.2843\n",
            "Mean Churn F1 (classes 1-4): 0.1296\n",
            "--------------------------------------------------\n",
            "\n",
            "Best Configuration (by Churn F1):\n",
            "Best Churn F1: 0.1606\n",
            "Best Churn Recall: 0.1489\n",
            "Best Parameters: n_estimators=30, learning_rate=0.5, max_depth=7\n"
          ]
        },
        {
          "output_type": "stream",
          "name": "stderr",
          "text": [
            "\n"
          ]
        }
      ]
    },
    {
      "cell_type": "markdown",
      "metadata": {
        "id": "2fiFWRBZRrtu"
      },
      "source": [
        "no recall score, due to probably class imbalance and cross-validation might make each fold conatiaining few or no sample of one class, causing recall error >> cross-validation lesser splits"
      ]
    },
    {
      "cell_type": "markdown",
      "metadata": {
        "id": "urXDD72jWkST"
      },
      "source": [
        "## **SOMTE-EEN & SMOTE-ENC Technique**\n",
        "To handel the i**mbalanced dataset** of 73% no churn and 27% of churn, I tried 2 different over-sampling/under-sampling techniques to create a more balanced dataset to identify churn more robustly.\n",
        "\n",
        "SMOTE\n",
        "\n",
        "The difference of 2 methods:\n",
        "- **SMOTE-ENN**: combines ``SMOTE`` which scales up the minority samples, and ENN method that scale down the majority samples to create balanced dataset. For all data points, ``ENN``(Edited Nearest Neighbor) finds its nearest K neighbors,and clean the samples which have more then $\\alpha$ (a threshold to be set) percent which are minority class, these samples get cleaned.\n",
        "- **SMOTE-ENC**: for datasets with both nominal and continuous features, ``SMOTE-NC`` is the only SMOTE-based over-sampling technique to balance the data, and ``SMOTE-ENC ``method offers better prediction than model using ``SMOTE-NC`` when the dataset has a substantial number of nominal features and also when there is some association between the categorical features and the target class"
      ]
    },
    {
      "cell_type": "code",
      "execution_count": null,
      "metadata": {
        "id": "pZI4llIME0el"
      },
      "outputs": [],
      "source": [
        "# In[] smoteen\n",
        "from imblearn.over_sampling import SMOTE, ADASYN\n",
        "from collections import Counter\n",
        "from imblearn.combine import SMOTEENN\n",
        "smote_enn = SMOTEENN()\n",
        "X_resampled, Y_resampled = smote_enn.fit_resample(X_train, Y_train)\n",
        "print(sorted(Counter(Y_resampled).items()))"
      ]
    },
    {
      "cell_type": "code",
      "execution_count": null,
      "metadata": {
        "id": "fwGkBM8yE4DM"
      },
      "outputs": [],
      "source": [
        "# In[] smotenc\n",
        "from imblearn.over_sampling import SMOTENC, ADASYN\n",
        "from collections import Counter\n",
        "# from imblearn.combine import SMOTENC\n",
        "smote_enc = SMOTENC(categorical_features=[0, 2, 3, 4, 5, 9, 12, 13, 15, 16, 17, 19, 20, 21, 22, 23, 24, 25, 26, 27, 28])\n",
        "X_resampled, Y_resampled = smote_enc.fit_resample(X_train, Y_train)\n",
        "print(sorted(Counter(Y_resampled).items()))"
      ]
    },
    {
      "cell_type": "code",
      "execution_count": null,
      "metadata": {
        "id": "UaVLO08CE8Bv"
      },
      "outputs": [],
      "source": [
        "# In[]\n",
        "model = AdaBoostClassifier(n_estimators=30, learning_rate=0.3, base_estimator=DecisionTreeClassifier(max_depth = 7))\n",
        "model.fit(X_resampled, Y_resampled)\n",
        "\n",
        "cv = RepeatedStratifiedKFold(n_splits=5, n_repeats=2, random_state=1)\n",
        "n_scores = cross_val_score(model, X_resampled, Y_resampled, scoring='accuracy', cv=cv, n_jobs=-1, error_score='raise')"
      ]
    },
    {
      "cell_type": "code",
      "execution_count": null,
      "metadata": {
        "id": "BTaS21wCE8gq"
      },
      "outputs": [],
      "source": [
        "# report performance\n",
        "print('Accuracy(resampled): %.3f (%.3f)' % (np.mean(n_scores), np.std(n_scores)))\n",
        "n_scores = cross_val_score(model, X_train, Y_train, scoring='accuracy', cv=cv, n_jobs=-1, error_score='raise')\n",
        "print('Accuracy(train): %.3f (%.3f)' % (np.mean(n_scores), np.std(n_scores)))"
      ]
    },
    {
      "cell_type": "code",
      "execution_count": null,
      "metadata": {
        "id": "kUUOqtpOE-8d"
      },
      "outputs": [],
      "source": [
        "Y_pred = model.predict(X_test)"
      ]
    },
    {
      "cell_type": "code",
      "execution_count": null,
      "metadata": {
        "id": "aLjz-6d0FCNq"
      },
      "outputs": [],
      "source": [
        "# In[]\n",
        "for lr in grid['learning_rate']:\n",
        "    for e in range(1,6):\n",
        "        model = AdaBoostClassifier(n_estimators = 300, learning_rate=lr, base_estimator=DecisionTreeClassifier(max_depth=e))\n",
        "        model.fit(X_resampled, Y_resampled)\n",
        "        cv = RepeatedStratifiedKFold(n_splits=10, n_repeats=3, random_state=1)\n",
        "        n_scores = cross_val_score(model, X_train, Y_train, scoring='accuracy', cv=cv, n_jobs=-1, error_score='raise')\n",
        "        print(lr, e)\n",
        "        print('Accuracy(train): %.3f (%.3f)' % (np.mean(n_scores), np.std(n_scores)))"
      ]
    },
    {
      "cell_type": "code",
      "execution_count": null,
      "metadata": {
        "id": "KN9PqvsHFHLj"
      },
      "outputs": [],
      "source": [
        "# In[]\n",
        "# from imblearn.ensemble import BalancedBaggingClassifier\n",
        "# from imblearn.ensemble import EasyEnsembleClassifier\n",
        "# # bbc = BalancedBaggingClassifier(n_estimators = 100)\n",
        "# eec = EasyEnsembleClassifier(n_estimators = 100)\n",
        "# model = eec.fit(X_train, Y_train)\n",
        "# cv = RepeatedStratifiedKFold(n_splits=10, n_repeats=3, random_state=1)\n",
        "# n_scores = cross_val_score(model, X_train, Y_train, scoring='accuracy', cv=cv, n_jobs=-1, error_score='raise')\n",
        "# print('Accuracy(train): %.3f (%.3f)' % (np.mean(n_scores), np.std(n_scores)))"
      ]
    },
    {
      "cell_type": "code",
      "execution_count": null,
      "metadata": {
        "id": "44aw3GoHFKQU"
      },
      "outputs": [],
      "source": [
        "# In[] Final Predict\n",
        "model = AdaBoostClassifier(n_estimators=100, learning_rate=0.3, base_estimator=DecisionTreeClassifier(max_depth = 1))\n",
        "model.fit(X_resampled, Y_resampled)\n",
        "Y_pred = model.predict(X_test)"
      ]
    },
    {
      "cell_type": "code",
      "execution_count": null,
      "metadata": {
        "id": "V5Z7BIWdFOFB"
      },
      "outputs": [],
      "source": [
        "#f1-score\n",
        "from sklearn.metrics import f1_score\n",
        "f1_score = f1_score(Y_train, model.predict(X_train), average=None)\n",
        "print(model.get_params())\n",
        "print(\"f1-score:\" , f1_score)"
      ]
    },
    {
      "cell_type": "code",
      "execution_count": null,
      "metadata": {
        "id": "x9osJyheFPr4"
      },
      "outputs": [],
      "source": [
        "#cross-validation\n",
        "cv = RepeatedStratifiedKFold(n_splits=10, n_repeats=3, random_state=1)\n",
        "n_scores = cross_val_score(model, X_train, Y_train, scoring='accuracy', cv=cv, n_jobs=-1, error_score='raise')\n",
        "# report performance\n",
        "print('Accuracy: %.3f (%.3f)' % (np.mean(n_scores), np.std(n_scores)))"
      ]
    },
    {
      "cell_type": "code",
      "execution_count": null,
      "metadata": {
        "id": "vBI85JGAFQNt"
      },
      "outputs": [],
      "source": [
        "# In[]\n",
        "output = np.concatenate((test_data.iloc[:, 0].to_numpy().reshape((1409,1)), Y_pred.reshape((1409,1))), axis=1)\n",
        "output = pd.DataFrame(output)\n",
        "output.iloc[:, 1] = output.iloc[:, 1].astype(np.int)\n",
        "output = output.set_axis(['Customer ID','Churn Category'], axis=1)\n",
        "output.to_csv('/Users/nina/Desktop/ML110-1/Adatest_smotenc_.csv', index=False)"
      ]
    }
  ],
  "metadata": {
    "colab": {
      "provenance": []
    },
    "kernelspec": {
      "display_name": "Python 3",
      "name": "python3"
    },
    "language_info": {
      "name": "python"
    }
  },
  "nbformat": 4,
  "nbformat_minor": 0
}